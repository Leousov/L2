{
 "cells": [
  {
   "cell_type": "code",
   "execution_count": 1,
   "metadata": {},
   "outputs": [
    {
     "name": "stdout",
     "output_type": "stream",
     "text": [
      "WARNING:tensorflow:From C:\\Users\\leous\\AppData\\Local\\Packages\\PythonSoftwareFoundation.Python.3.10_qbz5n2kfra8p0\\LocalCache\\local-packages\\Python310\\site-packages\\keras\\src\\losses.py:2976: The name tf.losses.sparse_softmax_cross_entropy is deprecated. Please use tf.compat.v1.losses.sparse_softmax_cross_entropy instead.\n",
      "\n"
     ]
    }
   ],
   "source": [
    "import tensorflow as tf\n",
    "import numpy as np\n",
    "import pandas as pd\n",
    "from tensorflow import keras\n",
    "import matplotlib.pyplot as plt\n",
    "k = 1"
   ]
  },
  {
   "cell_type": "code",
   "execution_count": 2,
   "metadata": {},
   "outputs": [
    {
     "data": {
      "text/html": [
       "<div>\n",
       "<style scoped>\n",
       "    .dataframe tbody tr th:only-of-type {\n",
       "        vertical-align: middle;\n",
       "    }\n",
       "\n",
       "    .dataframe tbody tr th {\n",
       "        vertical-align: top;\n",
       "    }\n",
       "\n",
       "    .dataframe thead th {\n",
       "        text-align: right;\n",
       "    }\n",
       "</style>\n",
       "<table border=\"1\" class=\"dataframe\">\n",
       "  <thead>\n",
       "    <tr style=\"text-align: right;\">\n",
       "      <th></th>\n",
       "      <th>title</th>\n",
       "      <th>text</th>\n",
       "      <th>subject</th>\n",
       "      <th>date</th>\n",
       "      <th>Real</th>\n",
       "    </tr>\n",
       "  </thead>\n",
       "  <tbody>\n",
       "    <tr>\n",
       "      <th>0</th>\n",
       "      <td>As U.S. budget fight looms, Republicans flip t...</td>\n",
       "      <td>WASHINGTON (Reuters) - The head of a conservat...</td>\n",
       "      <td>politicsNews</td>\n",
       "      <td>December 31, 2017</td>\n",
       "      <td>True</td>\n",
       "    </tr>\n",
       "    <tr>\n",
       "      <th>1</th>\n",
       "      <td>U.S. military to accept transgender recruits o...</td>\n",
       "      <td>WASHINGTON (Reuters) - Transgender people will...</td>\n",
       "      <td>politicsNews</td>\n",
       "      <td>December 29, 2017</td>\n",
       "      <td>True</td>\n",
       "    </tr>\n",
       "    <tr>\n",
       "      <th>2</th>\n",
       "      <td>Senior U.S. Republican senator: 'Let Mr. Muell...</td>\n",
       "      <td>WASHINGTON (Reuters) - The special counsel inv...</td>\n",
       "      <td>politicsNews</td>\n",
       "      <td>December 31, 2017</td>\n",
       "      <td>True</td>\n",
       "    </tr>\n",
       "    <tr>\n",
       "      <th>3</th>\n",
       "      <td>FBI Russia probe helped by Australian diplomat...</td>\n",
       "      <td>WASHINGTON (Reuters) - Trump campaign adviser ...</td>\n",
       "      <td>politicsNews</td>\n",
       "      <td>December 30, 2017</td>\n",
       "      <td>True</td>\n",
       "    </tr>\n",
       "    <tr>\n",
       "      <th>4</th>\n",
       "      <td>Trump wants Postal Service to charge 'much mor...</td>\n",
       "      <td>SEATTLE/WASHINGTON (Reuters) - President Donal...</td>\n",
       "      <td>politicsNews</td>\n",
       "      <td>December 29, 2017</td>\n",
       "      <td>True</td>\n",
       "    </tr>\n",
       "  </tbody>\n",
       "</table>\n",
       "</div>"
      ],
      "text/plain": [
       "                                               title  \\\n",
       "0  As U.S. budget fight looms, Republicans flip t...   \n",
       "1  U.S. military to accept transgender recruits o...   \n",
       "2  Senior U.S. Republican senator: 'Let Mr. Muell...   \n",
       "3  FBI Russia probe helped by Australian diplomat...   \n",
       "4  Trump wants Postal Service to charge 'much mor...   \n",
       "\n",
       "                                                text       subject  \\\n",
       "0  WASHINGTON (Reuters) - The head of a conservat...  politicsNews   \n",
       "1  WASHINGTON (Reuters) - Transgender people will...  politicsNews   \n",
       "2  WASHINGTON (Reuters) - The special counsel inv...  politicsNews   \n",
       "3  WASHINGTON (Reuters) - Trump campaign adviser ...  politicsNews   \n",
       "4  SEATTLE/WASHINGTON (Reuters) - President Donal...  politicsNews   \n",
       "\n",
       "                 date  Real  \n",
       "0  December 31, 2017   True  \n",
       "1  December 29, 2017   True  \n",
       "2  December 31, 2017   True  \n",
       "3  December 30, 2017   True  \n",
       "4  December 29, 2017   True  "
      ]
     },
     "execution_count": 2,
     "metadata": {},
     "output_type": "execute_result"
    }
   ],
   "source": [
    "df_base = pd.read_csv('True.csv') # Загрузим данные из первого файла, где лежат правдивые статьи\n",
    "\n",
    "df_base['Real'] = True  # Создадим новый столбец и заполним\n",
    "df_base.head()"
   ]
  },
  {
   "cell_type": "code",
   "execution_count": 3,
   "metadata": {},
   "outputs": [],
   "source": [
    "df_base = pd.concat([df_base, pd.read_csv('Fake.csv')]) # Присоединяем данные о ложных статьях\n",
    "df_base['Real'] = df_base['Real'].fillna(False) # И зполняем столбец истинности"
   ]
  },
  {
   "cell_type": "code",
   "execution_count": 4,
   "metadata": {},
   "outputs": [
    {
     "data": {
      "text/html": [
       "<div>\n",
       "<style scoped>\n",
       "    .dataframe tbody tr th:only-of-type {\n",
       "        vertical-align: middle;\n",
       "    }\n",
       "\n",
       "    .dataframe tbody tr th {\n",
       "        vertical-align: top;\n",
       "    }\n",
       "\n",
       "    .dataframe thead th {\n",
       "        text-align: right;\n",
       "    }\n",
       "</style>\n",
       "<table border=\"1\" class=\"dataframe\">\n",
       "  <thead>\n",
       "    <tr style=\"text-align: right;\">\n",
       "      <th></th>\n",
       "      <th>title</th>\n",
       "      <th>text</th>\n",
       "      <th>subject</th>\n",
       "      <th>date</th>\n",
       "      <th>Real</th>\n",
       "    </tr>\n",
       "  </thead>\n",
       "  <tbody>\n",
       "    <tr>\n",
       "      <th>count</th>\n",
       "      <td>44898</td>\n",
       "      <td>44898</td>\n",
       "      <td>44898</td>\n",
       "      <td>44898</td>\n",
       "      <td>44898</td>\n",
       "    </tr>\n",
       "    <tr>\n",
       "      <th>unique</th>\n",
       "      <td>38729</td>\n",
       "      <td>38646</td>\n",
       "      <td>8</td>\n",
       "      <td>2397</td>\n",
       "      <td>2</td>\n",
       "    </tr>\n",
       "    <tr>\n",
       "      <th>top</th>\n",
       "      <td>Factbox: Trump fills top jobs for his administ...</td>\n",
       "      <td></td>\n",
       "      <td>politicsNews</td>\n",
       "      <td>December 20, 2017</td>\n",
       "      <td>False</td>\n",
       "    </tr>\n",
       "    <tr>\n",
       "      <th>freq</th>\n",
       "      <td>14</td>\n",
       "      <td>627</td>\n",
       "      <td>11272</td>\n",
       "      <td>182</td>\n",
       "      <td>23481</td>\n",
       "    </tr>\n",
       "  </tbody>\n",
       "</table>\n",
       "</div>"
      ],
      "text/plain": [
       "                                                    title   text  \\\n",
       "count                                               44898  44898   \n",
       "unique                                              38729  38646   \n",
       "top     Factbox: Trump fills top jobs for his administ...          \n",
       "freq                                                   14    627   \n",
       "\n",
       "             subject                date   Real  \n",
       "count          44898               44898  44898  \n",
       "unique             8                2397      2  \n",
       "top     politicsNews  December 20, 2017   False  \n",
       "freq           11272                 182  23481  "
      ]
     },
     "execution_count": 4,
     "metadata": {},
     "output_type": "execute_result"
    }
   ],
   "source": [
    "df_base.describe() # Посмотрим описание df"
   ]
  },
  {
   "cell_type": "code",
   "execution_count": 5,
   "metadata": {},
   "outputs": [
    {
     "name": "stdout",
     "output_type": "stream",
     "text": [
      "title\n",
      "['As U.S. budget fight looms, Republicans flip their fiscal script'\n",
      " 'U.S. military to accept transgender recruits on Monday: Pentagon'\n",
      " \"Senior U.S. Republican senator: 'Let Mr. Mueller do his job'\" ...\n",
      " 'BOILER ROOM – No Surrender, No Retreat, Heads Will Roll  – EP #38'\n",
      " 'Federal Showdown Looms in Oregon After BLM Abuse of Local Ranching Family – Bundys Lead Protest'\n",
      " 'A Troubled King: Chicago’s Rahm Emanuel Desperate to Save His 2020 Presidential Run']\n",
      "\n",
      "text\n",
      "['WASHINGTON (Reuters) - The head of a conservative Republican faction in the U.S. Congress, who voted this month for a huge expansion of the national debt to pay for tax cuts, called himself a “fiscal conservative” on Sunday and urged budget restraint in 2018. In keeping with a sharp pivot under way among Republicans, U.S. Representative Mark Meadows, speaking on CBS’ “Face the Nation,” drew a hard line on federal spending, which lawmakers are bracing to do battle over in January. When they return from the holidays on Wednesday, lawmakers will begin trying to pass a federal budget in a fight likely to be linked to other issues, such as immigration policy, even as the November congressional election campaigns approach in which Republicans will seek to keep control of Congress. President Donald Trump and his Republicans want a big budget increase in military spending, while Democrats also want proportional increases for non-defense “discretionary” spending on programs that support education, scientific research, infrastructure, public health and environmental protection. “The (Trump) administration has already been willing to say: ‘We’re going to increase non-defense discretionary spending ... by about 7 percent,’” Meadows, chairman of the small but influential House Freedom Caucus, said on the program. “Now, Democrats are saying that’s not enough, we need to give the government a pay raise of 10 to 11 percent. For a fiscal conservative, I don’t see where the rationale is. ... Eventually you run out of other people’s money,” he said. Meadows was among Republicans who voted in late December for their party’s debt-financed tax overhaul, which is expected to balloon the federal budget deficit and add about $1.5 trillion over 10 years to the $20 trillion national debt. “It’s interesting to hear Mark talk about fiscal responsibility,” Democratic U.S. Representative Joseph Crowley said on CBS. Crowley said the Republican tax bill would require the  United States to borrow $1.5 trillion, to be paid off by future generations, to finance tax cuts for corporations and the rich. “This is one of the least ... fiscally responsible bills we’ve ever seen passed in the history of the House of Representatives. I think we’re going to be paying for this for many, many years to come,” Crowley said. Republicans insist the tax package, the biggest U.S. tax overhaul in more than 30 years,  will boost the economy and job growth. House Speaker Paul Ryan, who also supported the tax bill, recently went further than Meadows, making clear in a radio interview that welfare or “entitlement reform,” as the party often calls it, would be a top Republican priority in 2018. In Republican parlance, “entitlement” programs mean food stamps, housing assistance, Medicare and Medicaid health insurance for the elderly, poor and disabled, as well as other programs created by Washington to assist the needy. Democrats seized on Ryan’s early December remarks, saying they showed Republicans would try to pay for their tax overhaul by seeking spending cuts for social programs. But the goals of House Republicans may have to take a back seat to the Senate, where the votes of some Democrats will be needed to approve a budget and prevent a government shutdown. Democrats will use their leverage in the Senate, which Republicans narrowly control, to defend both discretionary non-defense programs and social spending, while tackling the issue of the “Dreamers,” people brought illegally to the country as children. Trump in September put a March 2018 expiration date on the Deferred Action for Childhood Arrivals, or DACA, program, which protects the young immigrants from deportation and provides them with work permits. The president has said in recent Twitter messages he wants funding for his proposed Mexican border wall and other immigration law changes in exchange for agreeing to help the Dreamers. Representative Debbie Dingell told CBS she did not favor linking that issue to other policy objectives, such as wall funding. “We need to do DACA clean,” she said.  On Wednesday, Trump aides will meet with congressional leaders to discuss those issues. That will be followed by a weekend of strategy sessions for Trump and Republican leaders on Jan. 6 and 7, the White House said. Trump was also scheduled to meet on Sunday with Florida Republican Governor Rick Scott, who wants more emergency aid. The House has passed an $81 billion aid package after hurricanes in Florida, Texas and Puerto Rico, and wildfires in California. The package far exceeded the $44 billion requested by the Trump administration. The Senate has not yet voted on the aid. '\n",
      " 'WASHINGTON (Reuters) - Transgender people will be allowed for the first time to enlist in the U.S. military starting on Monday as ordered by federal courts, the Pentagon said on Friday, after President Donald Trump’s administration decided not to appeal rulings that blocked his transgender ban. Two federal appeals courts, one in Washington and one in Virginia, last week rejected the administration’s request to put on hold orders by lower court judges requiring the military to begin accepting transgender recruits on Jan. 1. A Justice Department official said the administration will not challenge those rulings. “The Department of Defense has announced that it will be releasing an independent study of these issues in the coming weeks. So rather than litigate this interim appeal before that occurs, the administration has decided to wait for DOD’s study and will continue to defend the president’s lawful authority in District Court in the meantime,” the official said, speaking on condition of anonymity. In September, the Pentagon said it had created a panel of senior officials to study how to implement a directive by Trump to prohibit transgender individuals from serving. The Defense Department has until Feb. 21 to submit a plan to Trump. Lawyers representing currently-serving transgender service members and aspiring recruits said they had expected the administration to appeal the rulings to the conservative-majority Supreme Court, but were hoping that would not happen. Pentagon spokeswoman Heather Babb said in a statement: “As mandated by court order, the Department of Defense is prepared to begin accessing transgender applicants for military service Jan. 1. All applicants must meet all accession standards.” Jennifer Levi, a lawyer with gay, lesbian and transgender advocacy group GLAD, called the decision not to appeal “great news.” “I’m hoping it means the government has come to see that there is no way to justify a ban and that it’s not good for the military or our country,” Levi said. Both GLAD and the American Civil Liberties Union represent plaintiffs in the lawsuits filed against the administration. In a move that appealed to his hard-line conservative supporters, Trump announced in July that he would prohibit transgender people from serving in the military, reversing Democratic President Barack Obama’s policy of accepting them. Trump said on Twitter at the time that the military “cannot be burdened with the tremendous medical costs and disruption that transgender in the military would entail.” Four federal judges - in Baltimore, Washington, D.C., Seattle and Riverside, California - have issued rulings blocking Trump’s ban while legal challenges to the Republican president’s policy proceed. The judges said the ban would likely violate the right under the U.S. Constitution to equal protection under the law. The Pentagon on Dec. 8 issued guidelines to recruitment personnel in order to enlist transgender applicants by Jan. 1. The memo outlined medical requirements and specified how the applicants’ sex would be identified and even which undergarments they would wear. The Trump administration previously said in legal papers that the armed forces were not prepared to train thousands of personnel on the medical standards needed to process transgender applicants and might have to accept “some individuals who are not medically fit for service.” The Obama administration had set a deadline of July 1, 2017, to begin accepting transgender recruits. But Trump’s defense secretary, James Mattis, postponed that date to Jan. 1, 2018, which the president’s ban then put off indefinitely. Trump has taken other steps aimed at rolling back transgender rights. In October, his administration said a federal law banning gender-based workplace discrimination does not protect transgender employees, reversing another Obama-era position. In February, Trump rescinded guidance issued by the Obama administration saying that public schools should allow transgender students to use the restroom that corresponds to their gender identity. '\n",
      " 'WASHINGTON (Reuters) - The special counsel investigation of links between Russia and President Trump’s 2016 election campaign should continue without interference in 2018, despite calls from some Trump administration allies and Republican lawmakers to shut it down, a prominent Republican senator said on Sunday. Lindsey Graham, who serves on the Senate armed forces and judiciary committees, said Department of Justice Special Counsel Robert Mueller needs to carry on with his Russia investigation without political interference. “This investigation will go forward. It will be an investigation conducted without political influence,” Graham said on CBS’s Face the Nation news program. “And we all need to let Mr. Mueller do his job. I think he’s the right guy at the right time.”  The question of how Russia may have interfered in the election, and how Trump’s campaign may have had links with or co-ordinated any such effort, has loomed over the White House since Trump took office in January. It shows no sign of receding as Trump prepares for his second year in power, despite intensified rhetoric from some Trump allies in recent weeks accusing Mueller’s team of bias against the Republican president. Trump himself seemed to undercut his supporters in an interview last week with the New York Times in which he said he expected Mueller was “going to be fair.”    Russia’s role in the election and the question of possible links to the Trump campaign are the focus of multiple inquiries in Washington. Three committees of the Senate and the House of Representatives are investigating, as well as Mueller, whose team in May took over an earlier probe launched by the U.S. Federal Bureau of Investigation (FBI). Several members of the Trump campaign and administration have been convicted or indicted in the investigation.  Trump and his allies deny any collusion with Russia during the campaign, and the Kremlin has denied meddling in the election. Graham said he still wants an examination of the FBI’s use of a dossier on links between Trump and Russia that was compiled by a former British spy, Christopher Steele, which prompted Trump allies and some Republicans to question Mueller’s inquiry.   On Saturday, the New York Times reported that it was not that dossier that triggered an early FBI probe, but a tip from former Trump campaign foreign policy adviser George Papadopoulos to an Australian diplomat that Russia had damaging information about former Trump rival Hillary Clinton.  “I want somebody to look at the way the Department of Justice used this dossier. It bothers me greatly the way they used it, and I want somebody to look at it,” Graham said. But he said the Russia investigation must continue. “As a matter of fact, it would hurt us if we ignored it,” he said. '\n",
      " ...\n",
      " 'Tune in to the Alternate Current Radio Network (ACR) for another LIVE broadcast of  The Boiler Room  starting at 6 PM PST | 9 PM EST every Wednesday. Join us for uncensored, uninterruptible talk radio, custom-made for barfly philosophers, misguided moralists, masochists, street corner evangelists, media-maniacs, savants, political animals and otherwise lovable rascals.Join ACR hosts Hesher, & Spore along with Andy Nowicki from Alt Right Blogspot, ACR/21Wire contributor Randy J and Daniel Spaulding from souloftheeast.org. In this first broadcast of 2016 we re going off the rails and off the cuffs, listeners will be hearing us go around the BOILER ROOM on a myriad of topics including the Protest happening in Oregon over the Hammond Ranch incident and the federal abuse of small ranchers and farmers, the usual off-ramp into pop-culture topics, Obama s newest anti-gun executive order and more. If you want to participate, bring something interesting to throw into the boiler Join us in the ALTERNATE CURRENT RADIO chat room.BOILER ROOM IS NOT A POLICTALLY CORRECT ZONE!   Live ACR player below   Show goes live at 6 PM PSTThis week s topics: '\n",
      " '21st Century Wire says A new front has just opened up in the long battle between America s small farmers and the US federal government. DOUBLE JEOPARDY: Ranching family members Dwight Hammond (left) and his son Steven Hammond were sentenced twice for the same crime by federal officials.Late last week, approximately 150 people marched to the Harney County, Oregon, Sheriffs office in a peaceful protest of the unlawful jailing of two Oregon ranchers, father, Dwight Hammond, 73, and son, Steven Hammond, 46, over accusations of arson for carrying out prescribed burnings on their family-owned cattle ranch in 2001 and 2006. The family and their supporters accuse the federal Bureau of Land Management (BLM) of carrying out a decades-long pattern of abuse and persecution against the Hammonds in a coordinated effort to drive them out of the family ranching business.The scene in Burns, Oregon, Saturday morning as protestors gather in support of 2 ranchers going to prison. pic.twitter.com/ec6tmdeTik  Les Zaitz (@LesZaitz) January 2, 2016After a protest convened, a large group of supporters, including members of the Bundy family from Bunkerville, Nevada, left the public gathering and headed 50 miles outside of Burns, Oregon, (Burns is  located approximately 4 hours southeast of Portland), to the Malheur Wildlife Refuge Center, run by the BLM. The protesters have stated that their plan is to occupy the federal facility.Malheur National Wildlife building.Because of the venue s remote location, only a few journalists were able to report on the story over the weekend, but that was set to change on today, with dozens of new national media outlets arriving and setting up camp this morning. Law enforcement has already issued warnings for people to stay away, and the Sheriff s office has also informed media to expect  multiple agencies  (state and federal law enforcement) to be there on Monday morning.Below is a video statement (recorded on Jan 1st) from the protest s spokesman, Ammon Bundy, making an impassioned appeal for public support in a campaign for justice and redress of grievances for the Hammond family and also for additional support to help occupy the Malheur National Wildlife Refuge facility. Since the call went out through social media, a number of supporters and militia members from around the country have started to arrive on-site, with many more expected to arrive in the coming days and weeks.Watch: A video update from protesters and militia members as they arrive on location at the Malheur National Wildlife Refuge site:  The United States Justice Department has NO jurisdiction or authority within the State of Oregon, County of Harney over this type of ranch management. These lands are not under U.S. treaties or commerce, they are not article 4 territories, and Congress does not have unlimited power. These lands have been admitted into statehood and are part of the great State of Oregon and the citizens of Harney County enjoy the fullness of the protections of the U.S. Constitution. The U.S. Constitution limits United States government.  (see the full letter here) As expected, the media coverage on this story has been extremely partisan, with many left-leaning outlets like CNN already characterizing this story as a  Militia Takeover of Federal Building  by a  anti-government gang with guns , without giving any real background commentary to the protracted legal controversy that had preceded events this week. One local affiliate KOIN6, even used the term  militants  in the headline to describe protesters on site. The following report from Conservative Treehouse, tells an incredible story of corruption and abuse of power by the federal government, its agents and courts, in what can only be described as a federal vendetta against the local family. Here s the Hammond Ranch case timeline The short summary is:  in an effort to draw attention to a ridiculous arrest of a father and son pair of Oregon Ranchers ( Dwight Lincoln Hammond, Jr., 73, and his son, Steven Dwight Hammond, 46,) who are scheduled to begin five year prison sentences (turning themselves in tomorrow January 4th 2016), three brothers from the Cliven Bundy family and approximately 100/150 (and growing) heavily armed militia (former U.S. service members) have taken control of Malheur Wildlife Refuge Headquarters in the wildlife reserve.  They are prepared to stay there indefinitely.Here s the long version: including history, details, links video(s) and explanations: PHOTO: The Hammond FamilyHISTORY: (aa) The Harney Basin (where the Hammond ranch is established) was settled in the 1870 s. The valley was settled by multiple ranchers and was known to have run over 300,000 head of cattle. These ranchers developed a state of the art irrigated system to water the meadows, and it soon became a favorite stopping place for migrating birds on their annual trek north.(ab) In 1908 President Theodore Roosevelt, in a political scheme, create an  Indian reservation  around the Malheur, Mud & Harney Lakes and declared it  as a preserve and breeding ground for native birds . Later this  Indian reservation  (without Indians) became the Malheur National Wildlife Refuge.(a) In 1964 the Hammonds purchased their ranch in the Harney Basin. The purchase included approximately 6000 acres of private property, 4 grazing rights on public land, a small ranch house and 3 water rights. The ranch is around 53 miles South of Burns, Oregon.(a1) By the 1970 s nearly all the ranches adjacent to the Blitzen Valley were purchased by the US Fish and Wildlife Service (FWS) and added to the Malheur National Wildlife Refuge. The refuge covers over 187,000 acres and stretches over 45 miles long and 37 miles wide. The expansion of the refuge grew and surrounds the Hammond s ranch. Being approached many times by the FWS, the Hammonds refused to sell. Other ranchers also choose not to sell.(a2) During the 1970 s the Fish and Wildlife Service (FWS), in conjunction with the Bureau of Land Management (BLM), took a different approach to get the ranchers to sell. Ranchers were told that,  grazing was detrimental to wildlife and must be reduced . 32 out of 53 permits were revoked and many ranchers were forced to leave. Grazing fees were raised significantly for those who were allowed to remain. Refuge personnel took over the irrigation system claiming it as their own.(a3) By 1980 a conflict was well on its way over water allocations on the adjacent privately owned Silvies Plain. The FWS wanted to acquire the ranch lands on the Silvies Plain to add to their already vast holdings. Refuge personnel intentionally diverted the water to bypass the vast meadowlands, directing the water into the rising Malheur Lakes. Within a few short years the surface area of the lakes doubled. Thirty-one ranches on the Silvies plains were flooded. Homes, corrals, barns and graze-land were washed away and destroyed. The ranchers that once fought to keep the FWS from taking their land, now broke and destroyed, begged the FWS to acquire their useless ranches. In 1989 the waters began to recede and the once thriving privately owned Silvies pains became a proud part of the Malheur National Wildlife Refuge claimed by the FWS.(a4) By the 1990 s the Hammonds were one of the very few ranchers that still owned private property adjacent to the refuge. Susie Hammond in an effort to make sense of what was going on began compiling fact about the refuge. In a hidden public record she found a study that was done by the FWS in 1975. The study showed that the  no use  policies of the FWS on the refuge were causing the wildlife to leave the refuge and move to private property. The study showed that the private property adjacent to the Malheur Wildlife Refuge produced 4 times more ducks and geese than the refuge did. It also showed that the migrating birds were 13 times more likely to land on private property than on the refuge. When Susie brought this to the attention of the FWS and refuge personnel, she and her family became the subjects of a long train of abuses and corruptions.(b) In the early 1990 s the Hammonds filed on a livestock water source and obtained a deed for the water right from the State of Oregon. When the Bureau of Land Management (BLM) and US Fish and Wildlife Service (FWS) found out that the Hammonds obtained new water rights near the Malhuer Wildlife Refuge, they were agitated and became belligerent and vindictive towards the Hammonds. The US Fish and Wildlife Service challenged the Hammonds right to the water in an Oregon State Circuit Court. The court found that the Hammonds legally obtained rights to the water in accordance to State law and therefore the use of the water belongs to the Hammonds.*(c) In August 1994 the BLM & FWS illegally began building a fence around the Hammonds water source. Owning the water rights and knowing that their cattle relied on that water source daily, the Hammonds tried to stop the building of the fence. The BLM & FWS called the Harney County Sheriff department and had Dwight Hammond (Father) arrested and charged with  disturbing and interfering with  federal officials or federal contractors (two counts, each a felony). He spent one night in the Deschutes County Jail in Bend, and a second night behind bars in Portland before he was hauled before a federal magistrate and released without bail. A hearing on the charges was postponed and the federal judge never set another date.(d) The FWS also began restricting access to upper pieces of the Hammond s private property. In order to get to the upper part of the Hammond s ranch they had to go on a road that went through the Malhuer Wildlife Refuge. The FWS began barricading the road and threatening the Hammonds if they drove through it. The Hammonds removed the barricades and gates and continued to use their right of access. The road was proven later to be owned by the County of Harney. This further enraged the BLM & FWS.(e) Shortly after the road & water disputes, the BLM & FWS arbitrarily revoked the Hammond s upper grazing permit without any given cause, court proceeding or court ruling. As a traditional  fence out state , Oregon requires no obligation on the part of an owner to keep his or her livestock within a fence or to maintain control over the movement of the livestock. The Hammonds intended to still use their private property for grazing. However, they were informed that a federal judge ruled, in a federal court, that the federal government did not have to observe the Oregon fence out law.  Those laws are for the people, not for them .(f) The Hammonds were forced to either build and maintain miles of fences or be restricted from the use of their private property. Cutting their ranch almost in half, they could not afford to fence the land, so the cattle were removed.(g) The Hammonds experienced many years of financial hardship due to the ranch being diminished. The Hammonds had to sell their ranch and home in order to purchase another property that had enough grass to feed their cattle. This property included two grazing rights on public land. Those were also arbitrarily revoked later.(h) The owner of the Hammond s original ranch passed away from a heart attack and the Hammonds made a trade for the ranch back.(i) In the early fall of 2001, Steven Hammond (son) called the fire department, informing them that he was going to be performing a routine prescribed burn on their ranch. Later that day he started a prescribed fire on their private property. The fire spread to public land and burned 127 acres of grass. The Hammonds put the fire out themselves. There was no communication about the burn from the federal government to the Hammonds at that time. Prescribed fires are a common method that Native Americans and ranchers have used in the area to increase the health & productivity of the land for many centuries.(j) In 2006 a massive lightning storm started multiple fires that joined together inflaming the countryside. To prevent the fire from destroying their winter range and possibly their home, Steven Hammond (son) started a backfire on their private property. The backfire was successful in putting out the lightning fires that had covered thousands of acres within a short period of time. The backfire saved much of the range and vegetation needed to feed the cattle through the winter. Steven s mother, Susan Hammond said:  The backfire worked perfectly, it put out the fire, saved the range and possibly our home .(j1) The next day federal agents went to the Harney County Sheriff s office and filled a police report making accusing Dwight and Steven Hammond of starting the backfire. A few days after the backfire a Range-Con from the Burns District BLM office asked Steven if he would meet him in town (Frenchglen) for coffee. Steven accepted. When leaving he was arrested by Harney County Sheriff Dave Glerup and BLM Ranger Orr. the Sheriff  then ordered him to go to the ranch and bring back his father. Both Dwight and Steven were booked on multiple Oregon State charges. The Harney County District Attorney reviewed the accusation, evidence and charges, and determined that the accusations against Dwight & Steven Hammond did not warrant prosecution and dropped all the charges.(k) In 2011, 5 years after the police report was taken, the U.S. Attorney s Office accused Dwight and Steven Hammond of completely different charges, they accused them of being  Terrorist  under the Federal Antiterrorism Effective Death Penalty Act of 1996. This act carries a minimum sentence of five years in prison and a maximum sentence of death. Dwight & Steven s mug shots were all over the news the next week posing them as  Arsonists . Susan Hammond (Wife & Mother) said:  I would walk down the street or go in a store, people I had known for years would take extreme measures to avoid me .(l) Shortly after the sentencing, Capital Press ran a story about the Hammonds. A person who identified as Greg Allum posted three comments on the article, calling the ranchers  clowns  who endangered firefighters and other people in the area while burning valuable rangeland. Greg Allum, a retired BLM heavy equipment operator, soon called Capital Press to complain that he had not made those comments and request that they be taken down from the website. Capital Press removed the comments. A search of the Internet Protocol address associated with the comments revealed it is owned by the BLM s office in Denver, Colorado. Allum said, he is friends with the Hammonds and was alerted to the comments by neighbors who knew he wouldn t have written them.  I feel bad for them. They lost a lot and they re going to lose more,  Allum said of the ranchers.  They re not terrorists. There s this hatred in the BLM for them, and I don t get it,  The retired BLM employee said. Jody Weil, deputy state director for communications at BLM s Oregon office, indicated to reporters that if one of their agents falsified the comments, they would keep it private and not inform the public.(m) In September 2006, Dwight & Susan Hammond s home was raided. The agents informed the Hammonds that they were looking for evidence that would connect them to the fires. The Hammonds later found out that a boot print and a tire tracks were found near one of the many fires. No matching boots or tires were found in the Hammonds home or on their property. Susan Hammond (Wife) later said;   I have never felt so violated in my life. We are ranchers not criminals . Steven Hammond openly maintains his testimony that he started the backfire to save the winter grass from being destroyed and that the backfire ended up working so well it put out the fire entirely altogether.(n) During the trial proceedings, Federal Court Judge Michael Hogan did not allow time for certain testimonies and evidence into the trail that would have exonerated the Hammonds. Federal prosecuting attorney, Frank Papagni, was given full access for 6 days. He had ample time to use any evidence or testimony that strengthened the demonization of the Hammonds. The Hammonds attorney was only allowed 1 day. Much of the facts about the fires, land and why the Hammonds acted the way they did was not allowed into the proceedings and was not heard by the jury. For example, Judge Hogan did not allow time for the jury to hear or review certified scientific findings that the fires improved the health and productivity of the land. Or, that the Hammonds had been subject to vindictive behavior by multiple federal agencies for years.(o) Federal attorney, Frank Papagni, hunted down a witness that was not mentally capable of being a credible witness. Dusty Hammond (grandson and nephew) testified that Steven told him to start a fire. He was 13 at the time and 24 when he testified (11 years later). At 24 Dusty had been suffering with mental problems for many years. He had estranged his family including his mother. Judge Hogan noted that Dusty s memories as a 13-year-old boy were not clear or credible. He allowed the prosecution to continually use Dusty s testimony anyway. When speaking to the Hammonds about this testimony, they understood that Dusty was manipulated and expressed nothing but love for their troubled grandson.(p) Judge Michael Hogan & Frank Papagni tampered with the jury many times throughout the proceedings, including during the selection process. Hogan & Papagni only allowed people on the jury who did not understand the customs and culture of the ranchers or how the land is used and cared for in the Diamond Valley. All of the jurors had to drive back and forth to Pendleton everyday. Some drove more than two hours each way. By day 8 they were exhausted and expressed desires to be home.On the final day, Judge Hogan kept pushing them to make a verdict. Several times during deliberation, Judge Hogan pushed them to make a decision. Judge Hogan also would not allow the jury to hear what punishment could be imposed upon an individual that has convicted as a terrorist under the 1996 act. The jury, not understanding the customs and cultures of the area, influenced by the prosecutors for 6 straight days, very exhausted, pushed for a verdict by the judge, unaware of the ramification of convicting someone as a terrorist, made a verdict and went home.(q) June 22, 2012, Dwight and Steven were found guilty of starting both the 2001 and the 2006 fires by the jury. However, the federal courts convicted them both as  Terrorist  under the 1996 Antiterrorism Act. Judge Hogan sentenced Dwight (Father) to 3 months in prison and Steven (son) to 12 months in federal prison. They were also stipulated to pay $400,000 to the BLM. Hogan overruling the minimum terrorist sentence, commenting that if the full five years were required it would be a violation of the 8th amendment (cruel and unusual punishment). The day of the sentencing Judge Hogan retired as a federal judge. In his honor the staff served chocolate cake in the courtroom.(r) On January 4, 2013, Dwight and Steven reported to prison. They fulfilled their sentences, (Dwight 3 months, Steven 12 months). Dwight was released in March 2013 and Steven, January 2014.(s) Sometime in June 2014, Rhonda Karges, Field Manager for the BLM, and her husband Chad Karges, Refuge Manager for the Malheur Wildlife Refuge (which surrounds the Hammond ranch), along with attorney Frank Papagni exemplifying further vindictive behavior filed an appeal with the 9th District Federal Court seeking Dwight s and Steven s return to federal prison for the entire 5 years.*(t) In October 2015, the 9th District Court  resentenced  Dwight and Steven, requiring them to return to prison for several more years. Steven (46) has a wife and 3 children. Dwight (74) will leave Susan (74) to be alone after 55 years of marriage. If he survives, he will be 79 when he is released.(u) During the court preceding the Hammonds were forced to grant the BLM first right of refusal. If the Hammonds ever sold their ranch they would have to sell it to the BLM.(v) Dwight and Steven are ordered to report to federal prison again on January 4th, 2016 to begin their re-sentencing. Both their wives will have to manage the ranch for several years without them.To date they have paid $200,000 to the BLM, and the remainder $200,000 must be paid before the end of this year (2015). If the Hammonds cannot pay the fines to the BLM, they will be forced to sell the ranch to the BLM or face further prosecution. (more citations here) See updates at Conservative TreehouseHere is another video update from Ammon Bundy: SUPPORT 21WIRE  SUBSCRIBE & BECOME A MEMBER @ 21WIRE.TV'\n",
      " '21st Century Wire says It s not that far away. Guess who wants to run for president in 2020?Just before the New Year bell rung, the embattled Chicago Mayor Rahm Israel Emanuel (D) was forced to cut short his family vacation in Cuba, and headed back to the windy city after yet another embarrassing police shooting last week which claimed two lives as police responding to a  domestic disturbance  call killed  19-year-old Quintonio LeGrier, an engineering student at Northern Illinois University, and bystander 55-year-old Betti Jones, a grandmother.Last week, 100 people, family and activists, held a vigil for the victims. The Mayor has attempted a sort of mea culpa this time, but the public is not buying it, mainly because this was the second major high-profile police shooting incident to rock city hall in the last month. TROUBLE IN HIS KEEP: The LaQuan McDonald shooting has rattled the  dynasty potential  of Chicago s Rahm Emanuel.Currently serving his second term in office, the 56-year-old mayor is going from one crisis to the next, as tensions continue to simmer after the initial controversy, the killing of 17-year-old Laquan McDonald who was shot 16 times by city police on camera   which prompted angry mobs demanding  The King  step down.There could be a political price to pay for all of this. Not only are #BlackLivesMatter on the rampage over these latest shooting events, but also LeGrier s mother, Janet Cooksey, appeared on national TV last Sunday at a news conference, wearing a T-shirt emblazoned with the face of Mayor Emanuel with the words  Rahm Failed Us. Throughout the debacle, Emmanuel has not given in to the public pressure, even though his approval rating has plummeted 20% since hostilities began. On top of this, Chicago has earned the reputation of  murder capital of America , despite the mayor s staunch liberal policy of  gun-free zones  across the city which some critics credit towards creating a criminal s paradise. The Mayor is already on shaky ground. Only last winter, Emanuel narrowly survived a close run-off election to keep his job in office.All of this has the potential to cast a shadow over Emanuel s political future, which is likely to include a Democratic Party presidential run in 2020. It s reported that Emanuel already has a substantial campaign war chest ready to go, billions of dollars in fact, thanks to some very wealthy backers. If Emanuel does go ahead with the 2020 plan, the driving force behind his campaign will be his Hollywood mogul brother, Ari Emanuel, who will spare no expense in terms of PR, marketing and advertising for his brother s political drive to the White House. Part of the newly found Emanuel family fortune derives from their early investment in the virtual taxi service sensation, Uber, with the Emanuel investment estimated to be valued over $1 billion alone. This is not without controversy however, as it was Mayor Rahm Emanuel s deregulation of Chicago s taxi industry that helped Uber shares to skyrocket in value. Critics are saying that there was a conflict of interest there, but in today s seedy political environment of insider trading and open criminality, it might be hard for any politician to pull rank over that issue. Add to this the potential hundreds of millions more in donations that Emanuel will receive from Jewish property tycoon Sheldon Adelson, and also from Jewish billionaire and Emanuel s fellow anti-gun advocate, Michael Bloomberg   and all in the interests of serving Israel, and you can see how Emanuel could be viewed as a 2020 Democratic front-runner already.The Mayor emerged on to the DC sewer scene as part of the Clinton-Obama Chicago political machine. He s been described by AFP s Victor Thorn as,  More sinister than Karl Rove and potentially deadlier than Dick  Darth Vader  Cheney . Back when Emanuel was Barack Obama s chief of staff in 2008, many commentators remarked on his psychopathic behavior, including his frightening Machiavellian exhibition in a White House meeting where he said the administration s political enemies need to,  Die, die, die! , as he stabbed the table in anger, reportedly using either a pen, or letter opener (regardless, that s a bit scary). Enough to scare the American people considering this is a man who most likely has his eyes on the White House. DUAL LOYALTIES: Rahm Emanuel might have a hard to time putting US interests ahead of Netanyahu s.The other strange bone of contention about Emanuel as a candidate is that he is reportedly a dual citizen (although its believed he gave up his Israeli citizenship at 19 years old) who shares a national identity between the United States and Israel, and actual served in the IDF briefly after college. According to Mondoweiss,  Emanuel left when the Gulf War broke out, in order to volunteer in the IDF. He served in one of Israel s northern bases until the war ended, and upon his return to the US became Clinton s advisor in the White House for almost eight years. Emanuel can often be seen in the presence of Israel leader and Zionist extremist, Bibi Netanyahu, which raises the real prospect of Tel Aviv finally having its very own US president embedded in the White House.The fundamental question here is: when it comes down to the crunch, which country s interest would Emanuel be more loyal towards, the US, or Israel. Contrary to popular Republican belief sets, you cannot wear allegiance to both, because no matter how hard the Israel Lobby tries to portray it   both countries have very radically different national and social interests.If this issue sinks any further down the cesspit of public outrage, expect Emanuel s Hollywood PR machine to go into overdrive.READ MORE ISRAEL NEWS AT: 21st Century Wire Israel Files']\n",
      "\n",
      "subject\n",
      "['politicsNews' 'worldnews' 'News' 'politics' 'Government News'\n",
      " 'left-news' 'US_News' 'Middle-east']\n",
      "\n",
      "date\n",
      "['December 31, 2017 ' 'December 29, 2017 ' 'December 30, 2017 ' ...\n",
      " 'December 18, 2017' 'December 14, 2017' 'December 8, 2017']\n",
      "\n",
      "Real\n",
      "[ True False]\n",
      "\n"
     ]
    }
   ],
   "source": [
    "for i in df_base.columns: # Посмотрим, какие есть уникальные значения\n",
    "    print(i)\n",
    "    print(df_base[i].unique())\n",
    "    print()"
   ]
  },
  {
   "cell_type": "code",
   "execution_count": 6,
   "metadata": {},
   "outputs": [],
   "source": [
    "import pymorphy2\n",
    "import re\n",
    "\n",
    "ma = pymorphy2.MorphAnalyzer()\n",
    "\n",
    "def clean_text(text): # функция для очистки текста и приведения всех слов к базовым формам\n",
    "    text = text.replace(\"\\\\\", \" \").replace(u\"╚\", \" \").replace(u\"╩\", \" \")\n",
    "    text = text.lower()\n",
    "    text = re.sub('\\-\\s\\r\\n\\s{1,}|\\-\\s\\r\\n|\\r\\n', '', text) #deleting newlines and line-breaks\n",
    "    text = re.sub('[.,:;_%©?*,!@#$%^&()\\d]|[+=]|[[]|[]]|[/]|\"|\\s{2,}|-', ' ', text) #deleting symbols  \n",
    "    text = \" \".join(ma.parse(word)[0].normal_form for word in text.split())\n",
    "    text = ' '.join(word for word in text.split() if len(word)>3)\n",
    "    text = text.encode(\"utf-8\")\n",
    "\n",
    "    return text"
   ]
  },
  {
   "cell_type": "code",
   "execution_count": 7,
   "metadata": {},
   "outputs": [
    {
     "name": "stderr",
     "output_type": "stream",
     "text": [
      "C:\\Users\\leous\\AppData\\Local\\Temp\\ipykernel_21452\\2098602606.py:10: FutureWarning: Possible nested set at position 30\n",
      "  text = re.sub('[.,:;_%©?*,!@#$%^&()\\d]|[+=]|[[]|[]]|[/]|\"|\\s{2,}|-', ' ', text) #deleting symbols\n"
     ]
    }
   ],
   "source": [
    "df = df_base.copy() \n",
    "df['text'] = df.apply(lambda x: clean_text(x[u'text']).decode(\"utf-8\", \"strict\"), axis=1) # очищаем строки в столбцах заголовков и текста\n",
    "df['title'] = df.apply(lambda x: clean_text(x[u'title']).decode(\"utf-8\", \"strict\"), axis=1)"
   ]
  },
  {
   "cell_type": "code",
   "execution_count": 8,
   "metadata": {},
   "outputs": [
    {
     "data": {
      "text/html": [
       "<div>\n",
       "<style scoped>\n",
       "    .dataframe tbody tr th:only-of-type {\n",
       "        vertical-align: middle;\n",
       "    }\n",
       "\n",
       "    .dataframe tbody tr th {\n",
       "        vertical-align: top;\n",
       "    }\n",
       "\n",
       "    .dataframe thead th {\n",
       "        text-align: right;\n",
       "    }\n",
       "</style>\n",
       "<table border=\"1\" class=\"dataframe\">\n",
       "  <thead>\n",
       "    <tr style=\"text-align: right;\">\n",
       "      <th></th>\n",
       "      <th>title</th>\n",
       "      <th>text</th>\n",
       "      <th>subject</th>\n",
       "      <th>date</th>\n",
       "      <th>Real</th>\n",
       "    </tr>\n",
       "  </thead>\n",
       "  <tbody>\n",
       "    <tr>\n",
       "      <th>0</th>\n",
       "      <td>budget fight looms republicans flip their fisc...</td>\n",
       "      <td>washington reuters head conservative republica...</td>\n",
       "      <td>politicsNews</td>\n",
       "      <td>December 31, 2017</td>\n",
       "      <td>True</td>\n",
       "    </tr>\n",
       "    <tr>\n",
       "      <th>1</th>\n",
       "      <td>military accept transgender recruits monday pe...</td>\n",
       "      <td>washington reuters transgender people will all...</td>\n",
       "      <td>politicsNews</td>\n",
       "      <td>December 29, 2017</td>\n",
       "      <td>True</td>\n",
       "    </tr>\n",
       "    <tr>\n",
       "      <th>2</th>\n",
       "      <td>senior republican senator 'let mueller job'</td>\n",
       "      <td>washington reuters special counsel investigati...</td>\n",
       "      <td>politicsNews</td>\n",
       "      <td>December 31, 2017</td>\n",
       "      <td>True</td>\n",
       "    </tr>\n",
       "    <tr>\n",
       "      <th>3</th>\n",
       "      <td>russia probe helped australian diplomat</td>\n",
       "      <td>washington reuters trump campaign adviser geor...</td>\n",
       "      <td>politicsNews</td>\n",
       "      <td>December 30, 2017</td>\n",
       "      <td>True</td>\n",
       "    </tr>\n",
       "    <tr>\n",
       "      <th>4</th>\n",
       "      <td>trump wants postal service charge 'much more' ...</td>\n",
       "      <td>seattle washington reuters president donald tr...</td>\n",
       "      <td>politicsNews</td>\n",
       "      <td>December 29, 2017</td>\n",
       "      <td>True</td>\n",
       "    </tr>\n",
       "  </tbody>\n",
       "</table>\n",
       "</div>"
      ],
      "text/plain": [
       "                                               title  \\\n",
       "0  budget fight looms republicans flip their fisc...   \n",
       "1  military accept transgender recruits monday pe...   \n",
       "2        senior republican senator 'let mueller job'   \n",
       "3            russia probe helped australian diplomat   \n",
       "4  trump wants postal service charge 'much more' ...   \n",
       "\n",
       "                                                text       subject  \\\n",
       "0  washington reuters head conservative republica...  politicsNews   \n",
       "1  washington reuters transgender people will all...  politicsNews   \n",
       "2  washington reuters special counsel investigati...  politicsNews   \n",
       "3  washington reuters trump campaign adviser geor...  politicsNews   \n",
       "4  seattle washington reuters president donald tr...  politicsNews   \n",
       "\n",
       "                 date  Real  \n",
       "0  December 31, 2017   True  \n",
       "1  December 29, 2017   True  \n",
       "2  December 31, 2017   True  \n",
       "3  December 30, 2017   True  \n",
       "4  December 29, 2017   True  "
      ]
     },
     "execution_count": 8,
     "metadata": {},
     "output_type": "execute_result"
    }
   ],
   "source": [
    "df.head() # посмотрим на изменения "
   ]
  },
  {
   "cell_type": "code",
   "execution_count": 9,
   "metadata": {},
   "outputs": [],
   "source": [
    "df.to_pickle(f'../dataframe_ver_{k}.pkl') # Сохраним в файл\n",
    "k += 1"
   ]
  },
  {
   "cell_type": "code",
   "execution_count": 10,
   "metadata": {},
   "outputs": [],
   "source": [
    "df = pd.read_pickle(f'../dataframe_ver_{1}.pkl') # Считаем из файла"
   ]
  },
  {
   "cell_type": "code",
   "execution_count": 11,
   "metadata": {},
   "outputs": [],
   "source": [
    "df = df.sample(frac=1) # Перемешаем в первый раз"
   ]
  },
  {
   "cell_type": "code",
   "execution_count": 12,
   "metadata": {},
   "outputs": [
    {
     "data": {
      "text/html": [
       "<div>\n",
       "<style scoped>\n",
       "    .dataframe tbody tr th:only-of-type {\n",
       "        vertical-align: middle;\n",
       "    }\n",
       "\n",
       "    .dataframe tbody tr th {\n",
       "        vertical-align: top;\n",
       "    }\n",
       "\n",
       "    .dataframe thead th {\n",
       "        text-align: right;\n",
       "    }\n",
       "</style>\n",
       "<table border=\"1\" class=\"dataframe\">\n",
       "  <thead>\n",
       "    <tr style=\"text-align: right;\">\n",
       "      <th></th>\n",
       "      <th>title</th>\n",
       "      <th>text</th>\n",
       "      <th>subject</th>\n",
       "      <th>date</th>\n",
       "      <th>Real</th>\n",
       "    </tr>\n",
       "  </thead>\n",
       "  <tbody>\n",
       "    <tr>\n",
       "      <th>20365</th>\n",
       "      <td>south korea says north korea must stop challen...</td>\n",
       "      <td>seoul reuters south korea welcomed tuesday sec...</td>\n",
       "      <td>worldnews</td>\n",
       "      <td>September 12, 2017</td>\n",
       "      <td>True</td>\n",
       "    </tr>\n",
       "    <tr>\n",
       "      <th>214</th>\n",
       "      <td>military must accept transgender recruits judg...</td>\n",
       "      <td>reuters transgender recruits will able join mi...</td>\n",
       "      <td>politicsNews</td>\n",
       "      <td>December 11, 2017</td>\n",
       "      <td>True</td>\n",
       "    </tr>\n",
       "    <tr>\n",
       "      <th>4233</th>\n",
       "      <td>lebron james some choice words trump’s ‘locker...</td>\n",
       "      <td>ever since leaked tape donald trump before app...</td>\n",
       "      <td>News</td>\n",
       "      <td>October 12, 2016</td>\n",
       "      <td>False</td>\n",
       "    </tr>\n",
       "    <tr>\n",
       "      <th>10541</th>\n",
       "      <td>black trump supporter goes ballistic maxine wa...</td>\n",
       "      <td>woman hang when ranted like crazy congresswoma...</td>\n",
       "      <td>politics</td>\n",
       "      <td>Jun 25, 2017</td>\n",
       "      <td>False</td>\n",
       "    </tr>\n",
       "    <tr>\n",
       "      <th>20030</th>\n",
       "      <td>catalan independence campaign kicks barcelona ...</td>\n",
       "      <td>tarragona spain reuters catalonian government ...</td>\n",
       "      <td>worldnews</td>\n",
       "      <td>September 14, 2017</td>\n",
       "      <td>True</td>\n",
       "    </tr>\n",
       "  </tbody>\n",
       "</table>\n",
       "</div>"
      ],
      "text/plain": [
       "                                                   title  \\\n",
       "20365  south korea says north korea must stop challen...   \n",
       "214    military must accept transgender recruits judg...   \n",
       "4233   lebron james some choice words trump’s ‘locker...   \n",
       "10541  black trump supporter goes ballistic maxine wa...   \n",
       "20030  catalan independence campaign kicks barcelona ...   \n",
       "\n",
       "                                                    text       subject  \\\n",
       "20365  seoul reuters south korea welcomed tuesday sec...     worldnews   \n",
       "214    reuters transgender recruits will able join mi...  politicsNews   \n",
       "4233   ever since leaked tape donald trump before app...          News   \n",
       "10541  woman hang when ranted like crazy congresswoma...      politics   \n",
       "20030  tarragona spain reuters catalonian government ...     worldnews   \n",
       "\n",
       "                      date   Real  \n",
       "20365  September 12, 2017    True  \n",
       "214     December 11, 2017    True  \n",
       "4233      October 12, 2016  False  \n",
       "10541         Jun 25, 2017  False  \n",
       "20030  September 14, 2017    True  "
      ]
     },
     "execution_count": 12,
     "metadata": {},
     "output_type": "execute_result"
    }
   ],
   "source": [
    "df.head()"
   ]
  },
  {
   "cell_type": "code",
   "execution_count": 13,
   "metadata": {},
   "outputs": [
    {
     "name": "stdout",
     "output_type": "stream",
     "text": [
      "Всего тем: 8\n",
      "Всего реальностей: 2\n"
     ]
    }
   ],
   "source": [
    "# создадим массив, содержащий уникальные категории из нашего DataFrame\n",
    "subjects = {}\n",
    "for key,value in enumerate(df[u'subject'].unique()):\n",
    "    subjects[value] = key + 1\n",
    "reality = {}\n",
    "for key,value in enumerate(df[u'Real'].unique()):\n",
    "    reality[value] = key \n",
    "# Запишем в новую колонку числовое обозначение категории \n",
    "df['subject'] = df[u'subject'].map(subjects)\n",
    "df['Real'] = df[u'Real'].map(reality)\n",
    "\n",
    "total_categories = len(df[u'subject'].unique())\n",
    "print('Всего тем: {}'.format(total_categories))\n",
    "print('Всего реальностей: {}'.format(len(df[u'Real'].unique())))"
   ]
  },
  {
   "cell_type": "code",
   "execution_count": 14,
   "metadata": {},
   "outputs": [
    {
     "data": {
      "text/html": [
       "<div>\n",
       "<style scoped>\n",
       "    .dataframe tbody tr th:only-of-type {\n",
       "        vertical-align: middle;\n",
       "    }\n",
       "\n",
       "    .dataframe tbody tr th {\n",
       "        vertical-align: top;\n",
       "    }\n",
       "\n",
       "    .dataframe thead th {\n",
       "        text-align: right;\n",
       "    }\n",
       "</style>\n",
       "<table border=\"1\" class=\"dataframe\">\n",
       "  <thead>\n",
       "    <tr style=\"text-align: right;\">\n",
       "      <th></th>\n",
       "      <th>title</th>\n",
       "      <th>text</th>\n",
       "      <th>subject</th>\n",
       "      <th>date</th>\n",
       "    </tr>\n",
       "    <tr>\n",
       "      <th>Real</th>\n",
       "      <th></th>\n",
       "      <th></th>\n",
       "      <th></th>\n",
       "      <th></th>\n",
       "    </tr>\n",
       "  </thead>\n",
       "  <tbody>\n",
       "    <tr>\n",
       "      <th>0</th>\n",
       "      <td>21417</td>\n",
       "      <td>21417</td>\n",
       "      <td>21417</td>\n",
       "      <td>21417</td>\n",
       "    </tr>\n",
       "    <tr>\n",
       "      <th>1</th>\n",
       "      <td>23481</td>\n",
       "      <td>23481</td>\n",
       "      <td>23481</td>\n",
       "      <td>23481</td>\n",
       "    </tr>\n",
       "  </tbody>\n",
       "</table>\n",
       "</div>"
      ],
      "text/plain": [
       "      title   text  subject   date\n",
       "Real                              \n",
       "0     21417  21417    21417  21417\n",
       "1     23481  23481    23481  23481"
      ]
     },
     "execution_count": 14,
     "metadata": {},
     "output_type": "execute_result"
    }
   ],
   "source": [
    "df.groupby('Real').count() # Посчитаем количество ложных и истинных статей"
   ]
  },
  {
   "cell_type": "code",
   "execution_count": 15,
   "metadata": {},
   "outputs": [
    {
     "data": {
      "text/html": [
       "<div>\n",
       "<style scoped>\n",
       "    .dataframe tbody tr th:only-of-type {\n",
       "        vertical-align: middle;\n",
       "    }\n",
       "\n",
       "    .dataframe tbody tr th {\n",
       "        vertical-align: top;\n",
       "    }\n",
       "\n",
       "    .dataframe thead th {\n",
       "        text-align: right;\n",
       "    }\n",
       "</style>\n",
       "<table border=\"1\" class=\"dataframe\">\n",
       "  <thead>\n",
       "    <tr style=\"text-align: right;\">\n",
       "      <th></th>\n",
       "      <th>title</th>\n",
       "      <th>text</th>\n",
       "      <th>subject</th>\n",
       "      <th>date</th>\n",
       "      <th>Real</th>\n",
       "    </tr>\n",
       "  </thead>\n",
       "  <tbody>\n",
       "    <tr>\n",
       "      <th>0</th>\n",
       "      <td>told turkey jailed gold trader good condition ...</td>\n",
       "      <td>ankara reuters united states told turkey that ...</td>\n",
       "      <td>1</td>\n",
       "      <td>November 16, 2017</td>\n",
       "      <td>0</td>\n",
       "    </tr>\n",
       "    <tr>\n",
       "      <th>1</th>\n",
       "      <td>sickening angry black student spray paints rac...</td>\n",
       "      <td>hard police officers this video being more con...</td>\n",
       "      <td>5</td>\n",
       "      <td>Apr 17, 2016</td>\n",
       "      <td>1</td>\n",
       "    </tr>\n",
       "    <tr>\n",
       "      <th>2</th>\n",
       "      <td>deep state speaks clapper brennan threaten tru...</td>\n",
       "      <td>nice threat potus intelligence community will ...</td>\n",
       "      <td>5</td>\n",
       "      <td>Jul 24, 2017</td>\n",
       "      <td>1</td>\n",
       "    </tr>\n",
       "    <tr>\n",
       "      <th>3</th>\n",
       "      <td>agrees international experts probe yemen crimes</td>\n",
       "      <td>geneva reuters united nations agreed friday es...</td>\n",
       "      <td>1</td>\n",
       "      <td>September 29, 2017</td>\n",
       "      <td>0</td>\n",
       "    </tr>\n",
       "    <tr>\n",
       "      <th>4</th>\n",
       "      <td>putin agree 'appropriately deal' with korea nu...</td>\n",
       "      <td>beijing reuters chinese president jinping russ...</td>\n",
       "      <td>1</td>\n",
       "      <td>September 3, 2017</td>\n",
       "      <td>0</td>\n",
       "    </tr>\n",
       "    <tr>\n",
       "      <th>...</th>\n",
       "      <td>...</td>\n",
       "      <td>...</td>\n",
       "      <td>...</td>\n",
       "      <td>...</td>\n",
       "      <td>...</td>\n",
       "    </tr>\n",
       "    <tr>\n",
       "      <th>44893</th>\n",
       "      <td>kosovo removed from international arrest warra...</td>\n",
       "      <td>pristina reuters kosovo prime minister ramush ...</td>\n",
       "      <td>1</td>\n",
       "      <td>December 1, 2017</td>\n",
       "      <td>0</td>\n",
       "    </tr>\n",
       "    <tr>\n",
       "      <th>44894</th>\n",
       "      <td>carnage kindness good samaritans after london ...</td>\n",
       "      <td>london terror attack horrific scene with injur...</td>\n",
       "      <td>4</td>\n",
       "      <td>Mar 23, 2017</td>\n",
       "      <td>1</td>\n",
       "    </tr>\n",
       "    <tr>\n",
       "      <th>44895</th>\n",
       "      <td>nbc’s trump bashing chief white house reporter...</td>\n",
       "      <td>obnoxious anti trump hallie jackson constantly...</td>\n",
       "      <td>4</td>\n",
       "      <td>Jun 27, 2017</td>\n",
       "      <td>1</td>\n",
       "    </tr>\n",
       "    <tr>\n",
       "      <th>44896</th>\n",
       "      <td>search missing argentine submarine reaches 'cr...</td>\n",
       "      <td>plata argentina buenos aires reuters search ar...</td>\n",
       "      <td>1</td>\n",
       "      <td>November 22, 2017</td>\n",
       "      <td>0</td>\n",
       "    </tr>\n",
       "    <tr>\n",
       "      <th>44897</th>\n",
       "      <td>trump blasts retailer nordstrom raising concer...</td>\n",
       "      <td>washington chicago reuters this february story...</td>\n",
       "      <td>2</td>\n",
       "      <td>February 8, 2017</td>\n",
       "      <td>0</td>\n",
       "    </tr>\n",
       "  </tbody>\n",
       "</table>\n",
       "<p>44898 rows × 5 columns</p>\n",
       "</div>"
      ],
      "text/plain": [
       "                                                   title  \\\n",
       "0      told turkey jailed gold trader good condition ...   \n",
       "1      sickening angry black student spray paints rac...   \n",
       "2      deep state speaks clapper brennan threaten tru...   \n",
       "3        agrees international experts probe yemen crimes   \n",
       "4      putin agree 'appropriately deal' with korea nu...   \n",
       "...                                                  ...   \n",
       "44893  kosovo removed from international arrest warra...   \n",
       "44894  carnage kindness good samaritans after london ...   \n",
       "44895  nbc’s trump bashing chief white house reporter...   \n",
       "44896  search missing argentine submarine reaches 'cr...   \n",
       "44897  trump blasts retailer nordstrom raising concer...   \n",
       "\n",
       "                                                    text  subject  \\\n",
       "0      ankara reuters united states told turkey that ...        1   \n",
       "1      hard police officers this video being more con...        5   \n",
       "2      nice threat potus intelligence community will ...        5   \n",
       "3      geneva reuters united nations agreed friday es...        1   \n",
       "4      beijing reuters chinese president jinping russ...        1   \n",
       "...                                                  ...      ...   \n",
       "44893  pristina reuters kosovo prime minister ramush ...        1   \n",
       "44894  london terror attack horrific scene with injur...        4   \n",
       "44895  obnoxious anti trump hallie jackson constantly...        4   \n",
       "44896  plata argentina buenos aires reuters search ar...        1   \n",
       "44897  washington chicago reuters this february story...        2   \n",
       "\n",
       "                      date  Real  \n",
       "0       November 16, 2017      0  \n",
       "1             Apr 17, 2016     1  \n",
       "2             Jul 24, 2017     1  \n",
       "3      September 29, 2017      0  \n",
       "4       September 3, 2017      0  \n",
       "...                    ...   ...  \n",
       "44893    December 1, 2017      0  \n",
       "44894         Mar 23, 2017     1  \n",
       "44895         Jun 27, 2017     1  \n",
       "44896   November 22, 2017      0  \n",
       "44897    February 8, 2017      0  \n",
       "\n",
       "[44898 rows x 5 columns]"
      ]
     },
     "execution_count": 15,
     "metadata": {},
     "output_type": "execute_result"
    }
   ],
   "source": [
    "df = df.sample(frac=1).reset_index(drop=True) # Перемешаем еще раз, на этот раз обновим индексы\n",
    "df"
   ]
  },
  {
   "cell_type": "code",
   "execution_count": 16,
   "metadata": {},
   "outputs": [
    {
     "name": "stdout",
     "output_type": "stream",
     "text": [
      "Максимальная длина заголовка: 30 слов\n",
      "Максимальная длина текста: 5377 слов\n"
     ]
    }
   ],
   "source": [
    "title = df['title']\n",
    "text = df[u'text']\n",
    "subj = df['subject']\n",
    "real = df['Real']\n",
    "# Посчитаем максимальную длинну текста описания в словах\n",
    "max_title = 0\n",
    "for tit in title:\n",
    "    words = len(tit.split())\n",
    "    if words > max_title:\n",
    "        max_title = words\n",
    "print('Максимальная длина заголовка: {} слов'.format(max_title))\n",
    "\n",
    "max_text = 0\n",
    "for tit in text:\n",
    "    words = len(tit.split())\n",
    "    if words > max_text:\n",
    "        max_text = words\n",
    "print('Максимальная длина текста: {} слов'.format(max_text))\n",
    "maxSequenceLength = 5377"
   ]
  },
  {
   "cell_type": "code",
   "execution_count": 17,
   "metadata": {},
   "outputs": [
    {
     "name": "stdout",
     "output_type": "stream",
     "text": [
      "21417\n",
      "23481\n"
     ]
    }
   ],
   "source": [
    "print(real.where(real == 0).count()) \n",
    "print(real.where(real == 1).count())"
   ]
  },
  {
   "cell_type": "code",
   "execution_count": 18,
   "metadata": {},
   "outputs": [],
   "source": [
    "from gensim.test.utils import common_texts\n",
    "from gensim.models import Word2Vec\n",
    "from gensim.models import KeyedVectors"
   ]
  },
  {
   "cell_type": "code",
   "execution_count": 19,
   "metadata": {},
   "outputs": [],
   "source": [
    "title1 = list([ list(x.split()) for x in title]) # Создаем списки слов\n",
    "text1 = list([ list(x.split()) for x in text])"
   ]
  },
  {
   "cell_type": "code",
   "execution_count": 20,
   "metadata": {},
   "outputs": [],
   "source": [
    "model = Word2Vec(sentences=title1+text1, vector_size=100, window=5, min_count=1, workers=4) # создаем словарь формата Слово-Вектор\n",
    "model.save(\"../word2vec.model\") # Сохраняем модель"
   ]
  },
  {
   "cell_type": "code",
   "execution_count": 21,
   "metadata": {},
   "outputs": [],
   "source": [
    "model = Word2Vec.load(\"../word2vec.model\") # Загружаем"
   ]
  },
  {
   "cell_type": "code",
   "execution_count": 22,
   "metadata": {},
   "outputs": [],
   "source": [
    "word_vectors = model.wv # Это чистый словарь, без структуры всей модели\n",
    "# word_vectors.save(\"../word2vec.wordvectors\")"
   ]
  },
  {
   "cell_type": "code",
   "execution_count": 23,
   "metadata": {},
   "outputs": [
    {
     "data": {
      "text/plain": [
       "array([ 1.2922609 ,  1.1398853 , -0.2739103 , -0.44037667,  0.4934906 ,\n",
       "        1.8137177 ,  2.1216757 , -1.7549379 ,  1.1336356 ,  0.4752546 ,\n",
       "       -1.6146072 , -0.5170356 ,  0.14548223,  1.6242166 , -3.637726  ,\n",
       "       -2.9705818 ,  0.68724185, -0.5122248 ,  1.779478  , -0.01732831,\n",
       "        3.5080268 , -0.5077203 , -6.089626  ,  0.5000769 , -1.4903727 ,\n",
       "        1.8175884 ,  1.2634438 , -0.59294176, -0.8268745 ,  1.3729744 ,\n",
       "        2.084268  , -0.0307572 ,  0.5245515 , -2.50445   ,  0.25061944,\n",
       "        1.42122   ,  0.7493429 ,  2.9637043 , -2.9759824 , -0.73291725,\n",
       "        1.9096361 ,  4.833638  ,  0.50750715, -0.01134694,  0.16790394,\n",
       "       -0.04194555, -0.16335347, -2.0034475 ,  0.03352696, -1.1184881 ,\n",
       "       -2.9077086 ,  2.0631695 ,  0.27251247, -1.2878311 , -0.08867779,\n",
       "        0.8230324 , -0.9367093 ,  2.0170836 , -2.5312173 ,  1.7946584 ,\n",
       "        2.4547431 ,  1.8717701 ,  2.0587358 , -0.44268265, -0.43273336,\n",
       "       -4.294393  ,  0.88856316, -0.571531  ,  0.82769513, -2.5700223 ,\n",
       "       -3.5101042 , -0.18657143, -3.8079996 , -1.4807899 ,  0.6338448 ,\n",
       "        5.209057  ,  0.195075  ,  1.2019241 , -2.5727258 , -3.0054517 ,\n",
       "        0.98146033,  0.7154186 , -2.0984185 ,  0.28737307, -3.3441362 ,\n",
       "        0.68236524, -1.0548599 , -1.2952358 , -0.9056381 ,  0.06362659,\n",
       "        0.18021496, -2.0653143 , -0.51055425,  0.86983347,  0.24551739,\n",
       "       -1.6117252 , -0.41445073, -0.8082998 ,  1.3944322 ,  2.8436499 ],\n",
       "      dtype=float32)"
      ]
     },
     "execution_count": 23,
     "metadata": {},
     "output_type": "execute_result"
    }
   ],
   "source": [
    "word_vectors['information'] # Посмотрим, что лежит внутри"
   ]
  },
  {
   "cell_type": "markdown",
   "metadata": {},
   "source": [
    "Подготовим данные к нейросети"
   ]
  },
  {
   "cell_type": "code",
   "execution_count": 25,
   "metadata": {},
   "outputs": [
    {
     "name": "stdout",
     "output_type": "stream",
     "text": [
      "X1_train (32529, 30, 100)\n",
      "X1_test (10844, 30, 100)\n",
      "\n",
      "X2_train (32529, 30, 100)\n",
      "X2_test (10844, 30, 100)\n",
      "\n",
      "Y_train (32529,)\n",
      "Y_test (10844,)\n"
     ]
    }
   ],
   "source": [
    "mmas1 = [] # списки верхнего уровня для передачи для обучения или прогноза\n",
    "mmas2 = []\n",
    "mmasy = []\n",
    "\n",
    "for i in range(len(text1)): # Проходимся по всем строкам\n",
    "    mas1 = []   # списки нижнего уровня, в которых будут лежать векторы слов\n",
    "    mas2 = []\n",
    "    masy = []\n",
    "    for x in text1[i]:  # переводим слова в векторы и заполняем списки\n",
    "        mas1.append(np.array(word_vectors[x]))\n",
    "    for x in title1[i]:\n",
    "        mas2.append(np.array(word_vectors[x]))\n",
    "\n",
    "    while len(mas2) < max_title:    # заполняем пустые значения, чтобы соблюдать размерность\n",
    "        mas2.append(np.array([0]*100))\n",
    "    \n",
    "    if len(mas1) > 30: # если статья больше - делим на части по 30 и каждую из них помещаем в верхнеуровневый список\n",
    "        for j in range(0, len(mas1) // 30, 30):\n",
    "            m = mas1[j:j+30]\n",
    "            while len(m) < 30:\n",
    "                m.append(np.array([0]*100))\n",
    "            mmas1.append(np.array(mas1[j:j+30]))\n",
    "            mmas2.append(np.array(mas2))\n",
    "            mmasy.append(real[i])\n",
    "X1_train = np.array(mmas1) # преобразуем в читаемый для модели вид\n",
    "sep = int(len(X1_train) *0.75)  # выделяем тествую выборку\n",
    "X1_test = X1_train[sep:]        # тестовая\n",
    "X1_train = X1_train[:sep]       # тренировочная\n",
    "\n",
    "X2_train = np.array(mmas2)\n",
    "X2_test = X2_train[sep:]\n",
    "X2_train = X2_train[:sep]\n",
    "\n",
    "Y_train = np.array(mmasy)\n",
    "Y_test = Y_train[sep:]\n",
    "Y_train = Y_train[:sep]\n",
    "\n",
    "print('X1_train', X1_train.shape)\n",
    "print('X1_test', X1_test.shape)\n",
    "print()\n",
    "print('X2_train', X2_train.shape)\n",
    "print('X2_test', X2_test.shape)\n",
    "print()\n",
    "print('Y_train', Y_train.shape)\n",
    "print('Y_test', Y_test.shape)\n"
   ]
  },
  {
   "cell_type": "code",
   "execution_count": 26,
   "metadata": {},
   "outputs": [
    {
     "name": "stdout",
     "output_type": "stream",
     "text": [
      "Train 1 16588\n",
      "Train 0 15941\n",
      "Test 1 5602\n",
      "Test 0 5242\n"
     ]
    }
   ],
   "source": [
    "print('Train 1',len(Y_train[Y_train == 1])) # количество истинных и ложных статей в тестовых и тренировочных спсиках\n",
    "print('Train 0',len(Y_train[Y_train == 0]))\n",
    "print('Test 1',len(Y_test[Y_test == 1]))\n",
    "print('Test 0',len(Y_test[Y_test == 0]))"
   ]
  },
  {
   "cell_type": "code",
   "execution_count": 27,
   "metadata": {},
   "outputs": [],
   "source": [
    "from tensorflow import keras\n",
    "import keras.layers as layers"
   ]
  },
  {
   "cell_type": "code",
   "execution_count": 34,
   "metadata": {},
   "outputs": [],
   "source": [
    "text_input = keras.Input(shape=(30, 100), name='Input Text') # Создаем модель с двумя входами заданной формы \n",
    "title_input = keras.Input(shape=(30, 100), name='Input Title')\n",
    "\n",
    "x1 = layers.Conv1D(10, 10)(title_input)  # Задаем сверточный слой\n",
    "x1 = layers.GlobalMaxPooling1D()(x1) # Слой субдискретизации\n",
    "\n",
    "x2 = layers.Conv1D(10, 10)(text_input) # Задаем сверточный слой\n",
    "x2 = layers.GlobalMaxPooling1D()(x2) # Слой субдискретизации\n",
    "\n",
    "x = layers.concatenate([x1,x2])\n",
    "x = layers.Dense(3, name='Addit_dense')(x)\n",
    "\n",
    "score_output = layers.Dense(1, name='Output')(x)\n",
    "model = keras.Model(inputs=[text_input, title_input],\n",
    "                    outputs=[score_output])"
   ]
  },
  {
   "cell_type": "code",
   "execution_count": 35,
   "metadata": {},
   "outputs": [
    {
     "data": {
      "image/png": "[encoded data removed]",
      "text/plain": [
       "<IPython.core.display.Image object>"
      ]
     },
     "execution_count": 35,
     "metadata": {},
     "output_type": "execute_result"
    }
   ],
   "source": [
    "keras.utils.plot_model(model, 'multi_input_and_output_model.png', show_shapes=True)  # Нарисуем схему полученной модели"
   ]
  },
  {
   "cell_type": "code",
   "execution_count": 36,
   "metadata": {},
   "outputs": [],
   "source": [
    "model.compile( # Скомпилируем модель\n",
    "    optimizer=keras.optimizers.RMSprop(1e-3),\n",
    "    loss=[keras.losses.MeanSquaredError(), \"binary_crossentropy\"],\n",
    "    metrics=[tf.keras.metrics.binary_crossentropy, \"accuracy\"])"
   ]
  },
  {
   "cell_type": "code",
   "execution_count": 37,
   "metadata": {},
   "outputs": [
    {
     "name": "stdout",
     "output_type": "stream",
     "text": [
      "Epoch 1/10\n",
      "WARNING:tensorflow:From C:\\Users\\leous\\AppData\\Local\\Packages\\PythonSoftwareFoundation.Python.3.10_qbz5n2kfra8p0\\LocalCache\\local-packages\\Python310\\site-packages\\keras\\src\\utils\\tf_utils.py:492: The name tf.ragged.RaggedTensorValue is deprecated. Please use tf.compat.v1.ragged.RaggedTensorValue instead.\n",
      "\n",
      "WARNING:tensorflow:From C:\\Users\\leous\\AppData\\Local\\Packages\\PythonSoftwareFoundation.Python.3.10_qbz5n2kfra8p0\\LocalCache\\local-packages\\Python310\\site-packages\\keras\\src\\engine\\base_layer_utils.py:384: The name tf.executing_eagerly_outside_functions is deprecated. Please use tf.compat.v1.executing_eagerly_outside_functions instead.\n",
      "\n",
      "651/651 [==============================] - 3s 3ms/step - loss: 1.0596 - binary_crossentropy: 2.1318 - accuracy: 0.7460\n",
      "Epoch 2/10\n",
      "651/651 [==============================] - 2s 2ms/step - loss: 0.0248 - binary_crossentropy: 0.0833 - accuracy: 0.9935\n",
      "Epoch 3/10\n",
      "651/651 [==============================] - 2s 3ms/step - loss: 0.0093 - binary_crossentropy: 0.0487 - accuracy: 0.9969\n",
      "Epoch 4/10\n",
      "651/651 [==============================] - 2s 3ms/step - loss: 0.0064 - binary_crossentropy: 0.0372 - accuracy: 0.9969\n",
      "Epoch 5/10\n",
      "651/651 [==============================] - 2s 3ms/step - loss: 0.0052 - binary_crossentropy: 0.0316 - accuracy: 0.9970\n",
      "Epoch 6/10\n",
      "651/651 [==============================] - 2s 3ms/step - loss: 0.0044 - binary_crossentropy: 0.0280 - accuracy: 0.9970\n",
      "Epoch 7/10\n",
      "651/651 [==============================] - 2s 2ms/step - loss: 0.0040 - binary_crossentropy: 0.0258 - accuracy: 0.9972\n",
      "Epoch 8/10\n",
      "651/651 [==============================] - 2s 3ms/step - loss: 0.0037 - binary_crossentropy: 0.0244 - accuracy: 0.9973\n",
      "Epoch 9/10\n",
      "651/651 [==============================] - 2s 3ms/step - loss: 0.0036 - binary_crossentropy: 0.0236 - accuracy: 0.9973\n",
      "Epoch 10/10\n",
      "651/651 [==============================] - 2s 3ms/step - loss: 0.0035 - binary_crossentropy: 0.0231 - accuracy: 0.9974\n"
     ]
    }
   ],
   "source": [
    "history = model.fit([X1_train, X2_train], Y_train , # Передадим значения и натренеруем модель\n",
    "          batch_size=50,\n",
    "          epochs=10)"
   ]
  },
  {
   "cell_type": "code",
   "execution_count": 38,
   "metadata": {},
   "outputs": [
    {
     "data": {
      "text/plain": [
       "<Axes: >"
      ]
     },
     "execution_count": 38,
     "metadata": {},
     "output_type": "execute_result"
    },
    {
     "data": {
      "image/png": "[encoded data removed]",
      "text/plain": [
       "<Figure size 640x480 with 1 Axes>"
      ]
     },
     "metadata": {},
     "output_type": "display_data"
    }
   ],
   "source": [
    "hist = pd.DataFrame(history.history) # История развития модели\n",
    "hist.plot()"
   ]
  },
  {
   "cell_type": "code",
   "execution_count": 39,
   "metadata": {},
   "outputs": [],
   "source": [
    "from sklearn.metrics import *"
   ]
  },
  {
   "cell_type": "code",
   "execution_count": 40,
   "metadata": {},
   "outputs": [
    {
     "name": "stdout",
     "output_type": "stream",
     "text": [
      "339/339 [==============================] - 1s 1ms/step\n"
     ]
    },
    {
     "data": {
      "image/png": "[encoded data removed]",
      "text/plain": [
       "<Figure size 640x480 with 2 Axes>"
      ]
     },
     "metadata": {},
     "output_type": "display_data"
    }
   ],
   "source": [
    "y_pred_NN = np.round(model.predict([X1_test,X2_test])[:, 0]) # Проверим на тестовых данных\n",
    "ConfusionMatrixDisplay.from_predictions(y_true=Y_test, y_pred=y_pred_NN);"
   ]
  },
  {
   "cell_type": "markdown",
   "metadata": {},
   "source": [
    "Возьму какую-нибудь объективно ложную статью на английском  \n",
    "Например, статью уважаемого американского издания World News Daily Report, оригинал которой найти не удалось, что даже к лучшему  \n",
    "Далее будет взята копия с сайта Snopes: https://www.snopes.com/fact-check/texas-alien-anal-probe/"
   ]
  },
  {
   "cell_type": "code",
   "execution_count": 41,
   "metadata": {},
   "outputs": [],
   "source": [
    "title_snopes = 'Did a Texas Man Confess to Kidnapping 79 People While Disguised as an Alien?'\n",
    "text_snopes = \"A man who was arrested by the FBI Yesterday has confessed to kidnapping and sexually assaulting several dozen people while using costumes, drugs, and special effects to have his victims believe they had been abducted by aliens. 73-year old Arnold White was arrested after a joint investigation led by the Federal Bureau of Investigation, the El Paso Sheriff's Office and the El Paso Police Department. Originally interrogated about 4 crimes committed in the region in the 1990s, the retired trucker confessed a total of 79 kidnappings across California, Nevada, New Mexico, and Texas over a period of 40 years. Mr. White confessed to using a mix of hallucinatory drugs containing LSD and PCP to subdue his victims, before approaching them and carrying them inside his truck to assault them. In order to confuse his victims even more, he had set up the inside of his truck to look like an operating room and would wear an alien costume.\""
   ]
  },
  {
   "cell_type": "markdown",
   "metadata": {},
   "source": [
    "Теперь обработаем входные данные"
   ]
  },
  {
   "cell_type": "code",
   "execution_count": 42,
   "metadata": {},
   "outputs": [],
   "source": [
    "title_snopes = clean_text(title_snopes).decode(\"utf-8\", \"strict\")\n",
    "text_snopes = clean_text(text_snopes).decode(\"utf-8\", \"strict\")"
   ]
  },
  {
   "cell_type": "code",
   "execution_count": 43,
   "metadata": {},
   "outputs": [
    {
     "name": "stdout",
     "output_type": "stream",
     "text": [
      "7\n",
      "89\n"
     ]
    }
   ],
   "source": [
    "title1 = list(title_snopes.split())\n",
    "text1 = list(text_snopes.split())\n",
    "print(len(title1))\n",
    "print(len(text1))"
   ]
  },
  {
   "cell_type": "code",
   "execution_count": 44,
   "metadata": {},
   "outputs": [
    {
     "data": {
      "text/plain": [
       "['texas', 'confess', 'kidnapping', 'people', 'while', 'disguised', 'alien']"
      ]
     },
     "execution_count": 44,
     "metadata": {},
     "output_type": "execute_result"
    }
   ],
   "source": [
    "title1"
   ]
  },
  {
   "cell_type": "code",
   "execution_count": 45,
   "metadata": {},
   "outputs": [],
   "source": [
    "title_snopes1 = []\n",
    "text_snopes1 = []\n",
    "for i in title1:\n",
    "    if word_vectors.has_index_for(i):\n",
    "        title_snopes1.append(i)\n",
    "for i in text1:\n",
    "    if word_vectors.has_index_for(i):\n",
    "        text_snopes1.append(i)"
   ]
  },
  {
   "cell_type": "code",
   "execution_count": 46,
   "metadata": {},
   "outputs": [
    {
     "name": "stdout",
     "output_type": "stream",
     "text": [
      "7\n",
      "89\n"
     ]
    }
   ],
   "source": [
    "print(len(title_snopes1))\n",
    "print(len(text_snopes1))"
   ]
  },
  {
   "cell_type": "code",
   "execution_count": 47,
   "metadata": {},
   "outputs": [],
   "source": [
    "mas1 = []\n",
    "mas2 = []\n",
    "mmas1 = []\n",
    "mmas2 = []\n",
    "for x in text_snopes1:\n",
    "    mas1.append(np.array(word_vectors[x]))\n",
    "for x in title_snopes1:\n",
    "    mas2.append(np.array(word_vectors[x]))\n",
    "\n",
    "while len(mas2) < max_title:\n",
    "    mas2.append(np.array([0]*100))\n",
    "\n",
    "if len(mas1) > 30:\n",
    "    for j in range(0, len(mas1) // 30, 30):\n",
    "        m = mas1[j:j+30]\n",
    "        while len(m) < 30:\n",
    "            m.append(np.array([0]*100))\n",
    "        mmas1.append(np.array(mas1[j:j+30]))\n",
    "        mmas2.append(np.array(mas2))\n",
    "X1 = np.array(mmas1)\n",
    "X2 = np.array(mmas2)"
   ]
  },
  {
   "cell_type": "code",
   "execution_count": 48,
   "metadata": {},
   "outputs": [
    {
     "data": {
      "text/plain": [
       "{True: 0, False: 1}"
      ]
     },
     "execution_count": 48,
     "metadata": {},
     "output_type": "execute_result"
    }
   ],
   "source": [
    "reality"
   ]
  },
  {
   "cell_type": "code",
   "execution_count": 57,
   "metadata": {},
   "outputs": [
    {
     "name": "stdout",
     "output_type": "stream",
     "text": [
      "1/1 [==============================] - 0s 28ms/step\n",
      "Статья - Фейк!\n"
     ]
    }
   ],
   "source": [
    "res = model.predict([X1,X2])[0,0]\n",
    "if res > 0.90:\n",
    "    print('Статья - Фейк!')\n",
    "elif res < 0.10:\n",
    "    print('Статья - Правда!')\n",
    "else:\n",
    "    print(f'Сложно сказать, но с вероятностью {int(res*100)}% эта статья - фейк')"
   ]
  },
  {
   "cell_type": "markdown",
   "metadata": {},
   "source": [
    "Сокращенная ячейка для последующих проверок"
   ]
  },
  {
   "cell_type": "code",
   "execution_count": 59,
   "metadata": {},
   "outputs": [],
   "source": [
    "def check(title_snopes, text_snopes):\n",
    "    title_snopes = clean_text(title_snopes).decode(\"utf-8\", \"strict\")\n",
    "    text_snopes = clean_text(text_snopes).decode(\"utf-8\", \"strict\")\n",
    "    title1 = list(title_snopes.split())\n",
    "    text1 = list(text_snopes.split())\n",
    "    title_snopes1 = []\n",
    "    text_snopes1 = []\n",
    "    for i in title1:\n",
    "        if word_vectors.has_index_for(i):\n",
    "            title_snopes1.append(i)\n",
    "    for i in text1:\n",
    "        if word_vectors.has_index_for(i):\n",
    "            text_snopes1.append(i)\n",
    "    mas1 = []\n",
    "    mas2 = []\n",
    "    mmas1 = []\n",
    "    mmas2 = []\n",
    "    for x in text_snopes1:\n",
    "        mas1.append(np.array(word_vectors[x]))\n",
    "    for x in title_snopes1:\n",
    "        mas2.append(np.array(word_vectors[x]))\n",
    "\n",
    "    while len(mas2) < max_title:\n",
    "        mas2.append(np.array([0]*100))\n",
    "\n",
    "    if len(mas1) > 30:\n",
    "        for j in range(0, len(mas1) // 30, 30):\n",
    "            m = mas1[j:j+30]\n",
    "            while len(m) < 30:\n",
    "                m.append(np.array([0]*100))\n",
    "            mmas1.append(np.array(mas1[j:j+30]))\n",
    "            mmas2.append(np.array(mas2))\n",
    "    X1 = np.array(mmas1)\n",
    "    X2 = np.array(mmas2)\n",
    "    res = model.predict([X1,X2])[0,0]\n",
    "    if res > 0.90:\n",
    "        print('Статья - Фейк!')\n",
    "    elif res < 0.10:\n",
    "        print('Статья - Правда!')\n",
    "    else:\n",
    "        print(f'Сложно сказать, но с вероятностью {int(res*100)}% эта статья - фейк')"
   ]
  },
  {
   "cell_type": "markdown",
   "metadata": {},
   "source": [
    "Возьму случайную статью из NY Times  \n",
    "https://www.nytimes.com/2023/12/06/arts/music/mr-brightside-killers.html"
   ]
  },
  {
   "cell_type": "code",
   "execution_count": 60,
   "metadata": {},
   "outputs": [],
   "source": [
    "title = \"How ‘Mr. Brightside’ Became a Generation’s Anthem\"\n",
    "text = \"\"\"The Killers released “Mr. Brightside” 20 years ago and hardly anybody cared.\n",
    "\n",
    "The dominant hits of the day were hip-shakers and party bangers whose titles doubled as bodily imperatives: “Shake Ya Tailfeather,” “Get Low,” “Stand Up” — odes to the delirious, thrilling movements that keep the party going. “Mr. Brightside” is … not that.\n",
    "\n",
    "It’s an intense, dramatic song about the shattering experience of getting cheated on by someone you love. The lead single off the Las Vegas band’s debut studio album, “Hot Fuss,” consists of exactly one verse, pre-chorus and chorus, which simply repeat; the singer Brandon Flowers’s voice is the sardonic wail of a jilted lover who is physically ill at the thought of his girlfriend being with someone else (“Now they’re going to bed, and my stomach is sick”), and pretends that he is totally OK (“Comin’ out of my cage, and I’ve been doing just fine”) when he is obviously an absolute wreck (“I just can’t look, it’s killing meeeee”).\n",
    "\n",
    "Yet in the intervening decades, “Mr. Brightside” — which eventually reached the Billboard Hot 100 over a year after its initial release, peaking at No. 10 in June 2005 — has become something more than a hit. It has grown into an all-purpose, inescapable rallying cry: a karaoke staple, a football tradition, a party playlist must-have, a meme. It’s a straight shot of nostalgia that, having survived that awkward interval when a song feels dated and falls out of favor, now belongs to a pantheon of modern classics that are both extremely of their time and transcend it.\n",
    "\n",
    "If boomers gave the masses “Don’t Stop Believin’,” millennials can claim “Mr. Brightside” as the generation’s official entry into that canon: a song that gets everybody at the bar shout-singing along.\n",
    "\n",
    "The track is the centerpiece of the Killers’ oeuvre and the star of their new greatest hits album, “Rebel Diamonds,” which is full of hits with lyrics that are basically tattooed onto the hippocampuses of even the most casual fans — “All These Things That I’ve Done” (“I’ve got soul but I’m not a soldier”), the synthy-sad “Smile Like You Mean It” and gender-bendy “Somebody Told Me” (“you had a boyfriend who looked like a girlfriend that I had…”). But none of those singles comes close to matching the ongoing ubiquity of “Mr. Brightside.”\n",
    "\n",
    "“We’ve never not played that song live, because it’s stood the test of time and I’m proud of it,” Flowers told Spin in 2015. “I never get bored of singing it.” (A representative for Flowers said he was unable to speak for this article because he was in the studio.)\n",
    "\n",
    "“You drop this on a Friday night at midnight and the whole club just goes bananas,” said William Reed, a D.J. and founder of Club Decades, a dance party at Boardner’s in Hollywood. “Literally everybody in there is dancing and singing and dancing on top of the platforms and shouting with their eyes closed and screaming. It’s beautiful.”\"\"\""
   ]
  },
  {
   "cell_type": "code",
   "execution_count": 61,
   "metadata": {},
   "outputs": [
    {
     "name": "stdout",
     "output_type": "stream",
     "text": [
      "1/1 [==============================] - 0s 33ms/step\n",
      "Сложно сказать, но с вероятностью 89% эта статья - фейк\n"
     ]
    }
   ],
   "source": [
    "check(title, text)"
   ]
  },
  {
   "cell_type": "markdown",
   "metadata": {},
   "source": [
    "Или другую:  \n",
    "https://www.nytimes.com/2023/12/06/us/shooting-austin-isd-officer-texas.html"
   ]
  },
  {
   "cell_type": "code",
   "execution_count": 62,
   "metadata": {},
   "outputs": [],
   "source": [
    "title = \"Several Killed in Shootings Across Central Texas\"\n",
    "text = \"\"\"A man suspected of killing multiple people in a string of shootings across Austin, Texas, on Tuesday was taken into custody and charged with capital murder and other charges, the police said.\n",
    "\n",
    "Robin Henderson, the Austin Police Department’s interim chief, announced the details of the shootings at a news conference early Wednesday morning. She said the police had not determined that the incidents were connected until Tuesday night.\n",
    "\n",
    "“The nature of the relationship, if any, between the victims and the suspect is unknown,” Chief Henderson said.\n",
    "\n",
    "The suspect, who was not identified, may also be linked to a separate homicide investigation farther south, in Bexar County, she added.\n",
    "\n",
    "The first shooting occurred on Tuesday morning, when the suspect shot and wounded an Austin school district officer, Chief Henderson said.\n",
    "\n",
    "The Austin police said on Tuesday that Northeast Early College High School, had been placed under lockdown after shots were heard in its vicinity. The school district’s police chief, Wayne Sneed, told reporters that the injured officer was in stable condition after being shot in the leg.\n",
    "The second shooting, a double homicide of a man and a woman, occurred later on Tuesday morning in an area south of the first one, Chief Henderson said.\n",
    "\n",
    "In the third incident, a male cyclist said on Tuesday afternoon that he had been shot, Chief Henderson said. His injuries were not life threatening.\n",
    "\n",
    "And on Tuesday evening, she said, officers responding to a call about a burglary found the suspect in the backyard of the home. The suspect fired at an officer, who shot back and suffered multiple gunshot wounds that were not life threatening. The suspect later fled in a vehicle and crashed as police pursued him.\n",
    "\n",
    "As the chase unfolded, Chief Henderson said, other officers entered the home and found the bodies of two people. The department believes the suspect was also linked to those deaths, she said.\n",
    "\n",
    "The Austin police did not immediately respond to multiple requests for comment on Tuesday night.\n",
    "\n",
    "The Austin Independent School District Police Department declined to comment, though it said in a message to the school community that more than 1,200 students and staff members had been kept safe during the shooting incident on Tuesday morning.\n",
    "\n",
    "Separately, the authorities in Bexar County, which includes the city of San Antonio, said on Tuesday that the Austin suspect may have been involved in the deaths of two people in the San Antonio area on Tuesday morning. San Antonio is about 80 miles southwest of Austin.\n",
    "\n",
    "The Bexar County sheriff, Javier Salazar, said that the police in the San Antonio area had found two bodies in a home there after learning from the Austin police that the suspect, a man in his 30s, had connections to the home.\n",
    "Editors’ Picks\n",
    "Amber Fossils Suggest Male Mosquitoes Were Once Bloodsuckers\n",
    "Meet Charles Melton, the Breakout Star of ‘May December’\n",
    "I’m White. Should I Repatriate My African Art?\n",
    "\n",
    "“He’s got links to this house, but I’m not quite sure what his relationship, if any, to the people here in this house is,” Sheriff Salazar told reporters at the scene on Tuesday evening.\n",
    "\"\"\""
   ]
  },
  {
   "cell_type": "code",
   "execution_count": 63,
   "metadata": {},
   "outputs": [
    {
     "name": "stdout",
     "output_type": "stream",
     "text": [
      "1/1 [==============================] - 0s 29ms/step\n",
      "Сложно сказать, но с вероятностью 89% эта статья - фейк\n"
     ]
    }
   ],
   "source": [
    "check(title, text)"
   ]
  },
  {
   "cell_type": "markdown",
   "metadata": {},
   "source": [
    "Или первую попавшуюся статью с Russia Today....   \n",
    "https://www.rt.com/africa/588589-russian-language-returns-africa/"
   ]
  },
  {
   "cell_type": "code",
   "execution_count": 64,
   "metadata": {},
   "outputs": [],
   "source": [
    "title = \"\"\" Africans are increasingly learning Russian. Why?\n",
    "Although cooperation declined in the years after the collapse of the USSR, Moscow is now returning to the continent, and so is the language \"\"\"\n",
    "text = \"\"\"Many Africans learned Russian while studying in Soviet universities, and though cooperation between Moscow and the continent declined in the years after the collapse of the USSR, Russia is now returning, and so is the language.\n",
    "\n",
    "The ideas and values of Russia are close to the hearts of many Africans. This may explain the growing interest in the Russian language, which, according to the Pushkin State Russian Language Institute, is spoken by 255 million people worldwide as of 2022, and is the second most frequently used language for web content after English.\n",
    "\n",
    "The Soviet Union laid a solid foundation for cooperating with African countries – in fact, without this basis, any major partnership would be impossible today. The USSR educated an entire generation of highly-skilled specialists who formed Africa’s new elites. Because of this, Africa has long considered Russia to be a provider of excellent (and inexpensive) higher education. \n",
    "Soviet solutions to African problems \n",
    "\n",
    "The decision to train specialists from African countries was part of the Soviet Union’s long-term strategy. To help educate young people from Africa and other world regions, the Peoples’ Friendship University was established in 1960. A year later, the institution was named after Patrice Lumumba – the national hero of the Democratic Republic of the Congo, who became a symbol of Africa’s anti-colonial struggle after he was brutally assassinated (with the help of the CIA and the Belgian State Security Service) in 1961. \n",
    "\n",
    "The establishment of the People’s Friendship University was part of the Soviet Union’s effort to help its African partners, who had just broken the yoke of colonialism. At the time, there were only 25 universities throughout Africa, and the scientific and pedagogical environment in these institutions was only starting to develop. As a result, representatives of the African elites were mostly educated in Western universities. \n",
    "African students went to the USSR to acquire an in-demand profession that would allow them to make a rapid ‘social leap’ when they returned home. This is why the most popular areas of study for African students were engineering, technology, and agriculture. At one point, over 14% of foreign graduates from Soviet universities were Africans. \n",
    "\n",
    "Almost 90% of all graduates of African descent completed their university studies, while the remaining 10% graduated from secondary vocational schools. In addition to theory, they also studied the practical aspects of working with Soviet equipment, which helped them to become indispensable specialists in their homeland. \n",
    "\n",
    "From 1960-1992, the Soviet Union trained over 40,500 specialists from sub-Saharan Africa. Most graduates (49%) studied at institutions in the Russian Soviet Federative Socialist Republic (RSFSR); others were trained in the Ukrainian SSR.\n",
    "\n",
    "All these people spoke Russian, since students from African countries had to take preparatory language courses for one year. This was the main advantage of Soviet education. \n",
    "\n",
    "Nevertheless, there was a problem since few of these people passed on their language skills to others. When they returned home, many graduates gradually forgot the language due to a lack of practice. Some complained about the lack of programs allowing them to maintain their language skills. Moreover, less than 1% of the graduates majored in Russian Studies. Most went on to work in the field of economics, where they never had to speak Russian.\n",
    "\n",
    "However, for many Africans, the exciting years of study in the Soviet republics overshadowed any shortcomings. Many remember their studies with affection and some even consider Russia their second homeland.\n",
    "Why are Africans learning Russian today?\n",
    "\n",
    "In recent years, the number of students majoring in Russian has increased and is around 10% compared with other specialties. In Africa itself, there are now more opportunities to learn Russian. While in some African countries, Russian is not taught in universities, in others it is taught in public schools. Russia’s Federal Agency for the Commonwealth of Independent States Affairs, Compatriots Living Abroad, and International Humanitarian Cooperation (Rossotrudnichestvo) helps out in those countries where the language is not very popular. \n",
    "\n",
    "‘Russian Houses’ are now open in eight African countries (Tunisia, Morocco, Egypt, Ethiopia, Tanzania, Zambia, South Africa, and the Republic of the Congo). By 2025, Russian Centers of Science and Culture (RCSC) will open in Algeria, Angola, and Mali, based on agreements with local NGOs. In Egypt, there are already two Russian Houses and one RCSC. The Culture Centers provide language courses for students who plan to enroll in Russian universities. According to the latest data, about 2,000 people have already completed these courses.\n",
    "\n",
    "The popularity of Russian and the preparatory courses is directly tied to the scholarships provided for foreign students who want to study in Russian universities. Rossotrudnichestvo’s press service reported that last year, the average competition to receive a scholarship was about five people per place, so in the 2023-24 academic year, the number of scholarships was doubled from 2,300 to 4,700. Guinea, Angola, Mali, the Republic of the Congo, Egypt, and Nigeria are among the countries that receive the biggest financial benefits. \n",
    "\n",
    "However, many students face difficulties in learning the language, despite the preparatory courses. Russian is a very complex language, and even though the classes last for one year, most students are not able to freely speak the language and study in a Russian-language environment after completing the courses. \n",
    "In Senegal, young people can start learning Russian as a second language in vocational school or high school. However, as Kasse Abdou Fata, a graduate of the Pushkin State Russian Language Institute notes, this is not enough to master the language. “There is no Russian-speaking environment in Senegal that would allow one to quickly master such a complex language, so even after several years of studying it in vocational school or high school, students from Senegal have to take preparatory courses for another year after arriving in Russia,” he said.\n",
    "\n",
    "In the past, African students rarely chose Russian as a second language. Sometimes they enrolled in the Russian studies program merely by chance. The students often had a very poor understanding of Russia and the joint Russia-Africa projects. \n",
    "\n",
    "This lack of interest was due to the fact that students who majored in Russian did not have career prospects in Africa – there were very few Russian companies in Africa, and as a result, the demand for translation services was also low. Moreover, Russian language students in African universities often did not have the chance to visit the country. Young graduates would start teaching the language, even though they had never been in a Russian-speaking environment or never had the chance to become familiar with the culture. This situation particularly impacted students from areas where the language was not taught (or was taught poorly) in secondary schools. \n",
    "\n",
    "“But as more and more representatives of Russian businesses came to Africa and relations between Russia and Senegal developed, young people began actively learning Russian... Russian-speaking candidates have an advantage when applying for work in a Russian company,” Kasse Abdou Fata told RT.\n",
    "\n",
    "As a rule, Russian companies in Africa recruit employees who speak English or French, and these languages are used in the course of work. However, specialists who have lived in Russia for at least four years are more likely to become loyal employees who will show interest in their work and concern for the company. For this reason, Russian-speaking candidates are more likely to get the job, and this is a major motivation for young Africans. \n",
    "\n",
    "The situation is similar in Mali. “In all the regions of Mali, except the northern ones, Russian is taught as a second foreign language in public schools, and also in some private ones. The number [of Russian language students] is small – sometimes there are fewer than 10 students per school. However, as a result of the growing cooperation between Russia and Mali, the number of students who decide to major in Russian in university and those who want to study it as a second foreign language in schools is gradually increasing,” the head of the Department of the Russian Language at the University of Literature and Humanities, Dr. Gaoussou Samake, told RT.\n",
    "\n",
    "The growing demand for Russian is not just related to employment opportunities. Many Africans are interested in visiting Russia and studying in Russian universities. “For a long time, there was an agreement between the University of Bamako and the Pushkin Russian Language Institute which allowed Malian students to enroll in bachelor’s degree programs in Russia. This greatly increased the popularity of the Russian language among the applicants, and when this tradition ceased to exist, many of them chose other specialties,” Samake explained. But Russia remembers its African partners and the growing cooperation has already given rise to positive trends.\n",
    "The Russian language returns to Africa\n",
    "\n",
    "At the Russia-Africa Summit in St. Petersburg, Russian President Vladimir Putin focused attention on efforts to popularize Russian and cooperation in the field of education. The current partnership level must be improved, so the plans for the future are quite ambitious.\n",
    "\n",
    "One of the major goals is to create an ​​international organization for the Russian language. Russian-speaking countries and others which appreciate the culture and language, and want to encourage the use of Russian in business and everyday life, will be able to join the organization. Putin invited African partners to join the organization, which will begin operating in 2024. In addition to global projects, Russia is also implementing local, practical initiatives.\n",
    "\n",
    "Various Moscow-based and regional universities have launched a considerable number of projects aimed at popularizing the Russian language in Africa. Over the past few years, Russia has also provided generous funds to help African students, teachers, and graduates visit the country.\n",
    "n addition to exploring Russian culture, participants of the program attend language classes and have the chance to immerse themselves in the environment. When studying a foreign language, nothing beats the experience of visiting the country where it is spoken. Africans who are already somewhat familiar with Russian culture can feel its diversity and scope, and can ‘try on’ the Russian lifestyle for a while. On returning home, these people proudly share their experience of traveling to Russia and pass on their language skills to their peers and students.\n",
    "\n",
    "Putin also suggested that every African should have the opportunity to visit Russia without leaving home. In his speech at the summit, he proposed opening schools in Africa where subjects would be taught in Russian. Moreover, the three-year action plan of the Russia-Africa Partnership Forum includes the goal of opening branches of Russian educational organizations on the African continent.\n",
    "\n",
    "The Russian Teacher Abroad program is a global project aimed at improving the quality of teaching the language. The project extends to Africa, and many African countries have already joined it; 28 African countries are also in the process of creating Open Education Centers for training preschool, primary, and secondary school teachers. \n",
    "\n",
    "Today, the friendship between Russia and Africa is stronger than ever. Although cooperation declined in the years after the collapse of the USSR, Moscow is now returning to Africa, and so is the Russian language. And the people of Africa welcome them with an enthusiastic ‘spasibo’!\n",
    "\n",
    "By Tamara Andreeva, Junior Researcher at the Institute for African Studies, Russian Academy of Sciences\"\"\""
   ]
  },
  {
   "cell_type": "code",
   "execution_count": 65,
   "metadata": {},
   "outputs": [
    {
     "name": "stdout",
     "output_type": "stream",
     "text": [
      "1/1 [==============================] - 0s 28ms/step\n",
      "Статья - Фейк!\n"
     ]
    }
   ],
   "source": [
    "check(title, text)"
   ]
  }
 ],
 "metadata": {
  "kernelspec": {
   "display_name": "Python 3",
   "language": "python",
   "name": "python3"
  },
  "language_info": {
   "codemirror_mode": {
    "name": "ipython",
    "version": 3
   },
   "file_extension": ".py",
   "mimetype": "text/x-python",
   "name": "python",
   "nbconvert_exporter": "python",
   "pygments_lexer": "ipython3",
   "version": "3.10.11"
  }
 },
 "nbformat": 4,
 "nbformat_minor": 2
}
